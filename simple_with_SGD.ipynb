{
  "nbformat": 4,
  "nbformat_minor": 0,
  "metadata": {
    "colab": {
      "name": "simple_with_SGD.ipynb",
      "provenance": [],
      "collapsed_sections": [],
      "mount_file_id": "1KqM9BB_kw4B4PfKyfFtp8aOiwclIaj6Q",
      "authorship_tag": "ABX9TyPiLkdUH37VrtYb3UyScuzx",
      "include_colab_link": true
    },
    "kernelspec": {
      "name": "python3",
      "display_name": "Python 3"
    }
  },
  "cells": [
    {
      "cell_type": "markdown",
      "metadata": {
        "id": "view-in-github",
        "colab_type": "text"
      },
      "source": [
        "<a href=\"https://colab.research.google.com/github/amirrhseiin/Voice-Semantic-Detection/blob/main/simple_with_SGD.ipynb\" target=\"_parent\"><img src=\"https://colab.research.google.com/assets/colab-badge.svg\" alt=\"Open In Colab\"/></a>"
      ]
    },
    {
      "cell_type": "code",
      "metadata": {
        "id": "ElUUHVwUoQui",
        "colab": {
          "base_uri": "https://localhost:8080/"
        },
        "outputId": "ba8a6f4e-36f3-4fe9-9037-7c55a9a422a0"
      },
      "source": [
        "!unzip 'drive/MyDrive/project4-part2/train.zip'\n",
        "!unzip 'drive/MyDrive/project4-part2/test.zip'"
      ],
      "execution_count": null,
      "outputs": [
        {
          "output_type": "stream",
          "name": "stdout",
          "text": [
            "unzip:  cannot find or open drive/MyDrive/project4-part2/train.zip, drive/MyDrive/project4-part2/train.zip.zip or drive/MyDrive/project4-part2/train.zip.ZIP.\n",
            "Archive:  drive/MyDrive/project4-part2/test.zip\n",
            "   creating: test/\n",
            "  inflating: test/2705F.wav          \n",
            "  inflating: test/2707M.wav          \n",
            "  inflating: test/2708F.wav          \n",
            "  inflating: test/2710M.wav          \n",
            "  inflating: test/2711M.wav          \n",
            "  inflating: test/2712M.wav          \n",
            "  inflating: test/2713M.wav          \n",
            "  inflating: test/2714M.wav          \n",
            "  inflating: test/2715M.wav          \n",
            "  inflating: test/2720F.wav          \n",
            "  inflating: test/2721M.wav          \n",
            "  inflating: test/2722F.wav          \n",
            "  inflating: test/2724F.wav          \n",
            "  inflating: test/2725M.wav          \n",
            "  inflating: test/2726M.wav          \n",
            "  inflating: test/2727F.wav          \n",
            "  inflating: test/2728M.wav          \n",
            "  inflating: test/2729F.wav          \n",
            "  inflating: test/2733M.wav          \n",
            "  inflating: test/2734F.wav          \n",
            "  inflating: test/2735M.wav          \n",
            "  inflating: test/2736M.wav          \n",
            "  inflating: test/2737F.wav          \n",
            "  inflating: test/2738M.wav          \n",
            "  inflating: test/2740M.wav          \n",
            "  inflating: test/2741M.wav          \n",
            "  inflating: test/2743M.wav          \n",
            "  inflating: test/2744F.wav          \n",
            "  inflating: test/2745F.wav          \n",
            "  inflating: test/2746F.wav          \n",
            "  inflating: test/2747M.wav          \n",
            "  inflating: test/2748M.wav          \n",
            "  inflating: test/2749M.wav          \n",
            "  inflating: test/2750M.wav          \n",
            "  inflating: test/2752M.wav          \n",
            "  inflating: test/2753M.wav          \n",
            "  inflating: test/2754F.wav          \n",
            "  inflating: test/2755M.wav          \n",
            "  inflating: test/2756M.wav          \n",
            "  inflating: test/2757M.wav          \n",
            "  inflating: test/2761F.wav          \n",
            "  inflating: test/2762M.wav          \n",
            "  inflating: test/2764M.wav          \n",
            "  inflating: test/2765M.wav          \n",
            "  inflating: test/2766M.wav          \n",
            "  inflating: test/2767F.wav          \n",
            "  inflating: test/2768F.wav          \n",
            "  inflating: test/2769M.wav          \n",
            "  inflating: test/2770F.wav          \n",
            "  inflating: test/2771M.wav          \n",
            "  inflating: test/2772M.wav          \n",
            "  inflating: test/2773M.wav          \n",
            "  inflating: test/2774M.wav          \n",
            "  inflating: test/2775M.wav          \n",
            "  inflating: test/2776F.wav          \n",
            "  inflating: test/2779M.wav          \n",
            "  inflating: test/2780M.wav          \n",
            "  inflating: test/2782F.wav          \n",
            "  inflating: test/2783M.wav          \n",
            "  inflating: test/2784F.wav          \n",
            "  inflating: test/2785M.wav          \n",
            "  inflating: test/2786M.wav          \n",
            "  inflating: test/2787F.wav          \n",
            "  inflating: test/2788F.wav          \n",
            "  inflating: test/2790F.wav          \n",
            "  inflating: test/2791F.wav          \n",
            "  inflating: test/2792M.wav          \n",
            "  inflating: test/2793M.wav          \n",
            "  inflating: test/2794M.wav          \n",
            "  inflating: test/2795M.wav          \n",
            "  inflating: test/2797F.wav          \n",
            "  inflating: test/2798M.wav          \n",
            "  inflating: test/2800F.wav          \n",
            "  inflating: test/2801F.wav          \n",
            "  inflating: test/2802M.wav          \n",
            "  inflating: test/2803F.wav          \n",
            "  inflating: test/2804M.wav          \n",
            "  inflating: test/2805F.wav          \n",
            "  inflating: test/2806M.wav          \n",
            "  inflating: test/2808M.wav          \n",
            "  inflating: test/2810M.wav          \n",
            "  inflating: test/2811M.wav          \n",
            "  inflating: test/2812F.wav          \n",
            "  inflating: test/2813M.wav          \n",
            "  inflating: test/2814F.wav          \n",
            "  inflating: test/2815M.wav          \n",
            "  inflating: test/2816F.wav          \n",
            "  inflating: test/2817M.wav          \n",
            "  inflating: test/2818F.wav          \n",
            "  inflating: test/2819M.wav          \n",
            "  inflating: test/2820F.wav          \n",
            "  inflating: test/2821M.wav          \n",
            "  inflating: test/2822F.wav          \n",
            "  inflating: test/2823M.wav          \n",
            "  inflating: test/2825F.wav          \n",
            "  inflating: test/2826F.wav          \n",
            "  inflating: test/2827F.wav          \n",
            "  inflating: test/2828F.wav          \n",
            "  inflating: test/2830F.wav          \n",
            "  inflating: test/2831M.wav          \n",
            "  inflating: test/2834M.wav          \n",
            "  inflating: test/2835M.wav          \n",
            "  inflating: test/2836F.wav          \n",
            "  inflating: test/2837M.wav          \n",
            "  inflating: test/2838F.wav          \n",
            "  inflating: test/2839F.wav          \n",
            "  inflating: test/2841M.wav          \n",
            "  inflating: test/2844F.wav          \n",
            "  inflating: test/2845M.wav          \n",
            "  inflating: test/2850M.wav          \n",
            "  inflating: test/2851M.wav          \n",
            "  inflating: test/2852M.wav          \n",
            "  inflating: test/2854F.wav          \n",
            "  inflating: test/2856M.wav          \n",
            "  inflating: test/2857F.wav          \n",
            "  inflating: test/2858F.wav          \n",
            "  inflating: test/2859M.wav          \n",
            "  inflating: test/2860F.wav          \n",
            "  inflating: test/2861F.wav          \n",
            "  inflating: test/2862M.wav          \n",
            "  inflating: test/2863M.wav          \n",
            "  inflating: test/2865F.wav          \n",
            "  inflating: test/2866M.wav          \n",
            "  inflating: test/2868M.wav          \n",
            "  inflating: test/2871M.wav          \n",
            "  inflating: test/2873F.wav          \n",
            "  inflating: test/2874M.wav          \n",
            "  inflating: test/2875F.wav          \n",
            "  inflating: test/2876F.wav          \n",
            "  inflating: test/2877M.wav          \n",
            "  inflating: test/2878F.wav          \n",
            "  inflating: test/2879M.wav          \n",
            "  inflating: test/2880M.wav          \n",
            "  inflating: test/2882M.wav          \n",
            "  inflating: test/2884M.wav          \n",
            "  inflating: test/2887F.wav          \n",
            "  inflating: test/2888M.wav          \n",
            "  inflating: test/2889M.wav          \n",
            "  inflating: test/2890M.wav          \n",
            "  inflating: test/2891F.wav          \n",
            "  inflating: test/2892F.wav          \n",
            "  inflating: test/2893M.wav          \n",
            "  inflating: test/2895M.wav          \n",
            "  inflating: test/2896F.wav          \n",
            "  inflating: test/2897M.wav          \n",
            "  inflating: test/2898M.wav          \n",
            "  inflating: test/2900M.wav          \n",
            "  inflating: test/2901F.wav          \n",
            "  inflating: test/2902F.wav          \n",
            "  inflating: test/2903M.wav          \n",
            "  inflating: test/2904M.wav          \n",
            "  inflating: test/2905F.wav          \n",
            "  inflating: test/2906M.wav          \n",
            "  inflating: test/2909M.wav          \n",
            "  inflating: test/2911F.wav          \n",
            "  inflating: test/2912M.wav          \n",
            "  inflating: test/2913M.wav          \n",
            "  inflating: test/2914M.wav          \n",
            "  inflating: test/2915M.wav          \n",
            "  inflating: test/2917F.wav          \n",
            "  inflating: test/2919F.wav          \n",
            "  inflating: test/2920M.wav          \n",
            "  inflating: test/2921M.wav          \n",
            "  inflating: test/2922M.wav          \n",
            "  inflating: test/2923M.wav          \n",
            "  inflating: test/2925F.wav          \n",
            "  inflating: test/2926M.wav          \n",
            "  inflating: test/2927M.wav          \n",
            "  inflating: test/2928F.wav          \n",
            "  inflating: test/2929F.wav          \n",
            "  inflating: test/2932M.wav          \n",
            "  inflating: test/2933M.wav          \n",
            "  inflating: test/2934F.wav          \n",
            "  inflating: test/2936M.wav          \n",
            "  inflating: test/2938F.wav          \n",
            "  inflating: test/2939M.wav          \n",
            "  inflating: test/2940F.wav          \n",
            "  inflating: test/2941M.wav          \n",
            "  inflating: test/2942M.wav          \n",
            "  inflating: test/2943F.wav          \n",
            "  inflating: test/2944M.wav          \n",
            "  inflating: test/2946M.wav          \n",
            "  inflating: test/2947M.wav          \n",
            "  inflating: test/2948F.wav          \n",
            "  inflating: test/2949M.wav          \n",
            "  inflating: test/2951M.wav          \n",
            "  inflating: test/2952F.wav          \n",
            "  inflating: test/2953F.wav          \n",
            "  inflating: test/2954M.wav          \n",
            "  inflating: test/2955M.wav          \n",
            "  inflating: test/2956M.wav          \n",
            "  inflating: test/2957M.wav          \n",
            "  inflating: test/2958M.wav          \n",
            "  inflating: test/2960M.wav          \n",
            "  inflating: test/2961M.wav          \n",
            "  inflating: test/2962M.wav          \n",
            "  inflating: test/2963M.wav          \n",
            "  inflating: test/2964F.wav          \n",
            "  inflating: test/2965M.wav          \n",
            "  inflating: test/2966F.wav          \n",
            "  inflating: test/2967M.wav          \n",
            "  inflating: test/2968F.wav          \n",
            "  inflating: test/2969M.wav          \n",
            "  inflating: test/2970M.wav          \n",
            "  inflating: test/2971M.wav          \n",
            "  inflating: test/2972F.wav          \n",
            "  inflating: test/2973M.wav          \n",
            "  inflating: test/2975M.wav          \n",
            "  inflating: test/2976M.wav          \n",
            "  inflating: test/2977M.wav          \n",
            "  inflating: test/2978F.wav          \n",
            "  inflating: test/2979M.wav          \n",
            "  inflating: test/2980M.wav          \n",
            "  inflating: test/2981M.wav          \n",
            "  inflating: test/2982M.wav          \n",
            "  inflating: test/2983M.wav          \n",
            "  inflating: test/2985F.wav          \n",
            "  inflating: test/2986M.wav          \n",
            "  inflating: test/2987F.wav          \n",
            "  inflating: test/2988M.wav          \n",
            "  inflating: test/2989M.wav          \n",
            "  inflating: test/2990F.wav          \n",
            "  inflating: test/2992M.wav          \n",
            "  inflating: test/2993M.wav          \n",
            "  inflating: test/2995M.wav          \n",
            "  inflating: test/2996F.wav          \n",
            "  inflating: test/2999M.wav          \n"
          ]
        }
      ]
    },
    {
      "cell_type": "code",
      "metadata": {
        "id": "FmwGLB0fofVE"
      },
      "source": [
        "import glob\n",
        "from pandas import DataFrame\n",
        "import pandas as pd\n",
        "import numpy as np\n",
        "import librosa\n",
        "import IPython\n",
        "from IPython.display import Audio\n",
        "from matplotlib import pyplot as plt\n",
        "from sklearn.preprocessing import LabelEncoder\n",
        "from sklearn.metrics import accuracy_score\n",
        "from keras import Model\n",
        "from keras.models import load_model\n",
        "from keras.layers import Dense, Dropout, Input , LSTM\n",
        "from keras.optimizers import SGD, Adam\n",
        "from keras.utils import to_categorical, plot_model\n",
        "from keras.callbacks import  EarlyStopping"
      ],
      "execution_count": null,
      "outputs": []
    },
    {
      "cell_type": "code",
      "metadata": {
        "id": "5zt7VbIys5lD"
      },
      "source": [
        "import glob"
      ],
      "execution_count": null,
      "outputs": []
    },
    {
      "cell_type": "code",
      "metadata": {
        "id": "UB-9MZ4VokDW"
      },
      "source": [
        "train_name_list =[]\n",
        "train_name_list = glob.glob(\"train/*.wav\")\n",
        "test_name_list =[]\n",
        "test_name_list = glob.glob(\"test/*.wav\")"
      ],
      "execution_count": null,
      "outputs": []
    },
    {
      "cell_type": "code",
      "metadata": {
        "id": "AfX0YVvJ9duC"
      },
      "source": [
        "test_label = pd.read_csv('drive/MyDrive/project4-part2/result.csv')"
      ],
      "execution_count": null,
      "outputs": []
    },
    {
      "cell_type": "code",
      "metadata": {
        "colab": {
          "base_uri": "https://localhost:8080/",
          "height": 424
        },
        "id": "wC2tho4l9rN-",
        "outputId": "146f6e41-8051-4877-8151-159a48ffb91b"
      },
      "source": [
        "df = DataFrame (temp ,columns=['Name'])\n",
        "df"
      ],
      "execution_count": null,
      "outputs": [
        {
          "output_type": "execute_result",
          "data": {
            "text/html": [
              "<div>\n",
              "<style scoped>\n",
              "    .dataframe tbody tr th:only-of-type {\n",
              "        vertical-align: middle;\n",
              "    }\n",
              "\n",
              "    .dataframe tbody tr th {\n",
              "        vertical-align: top;\n",
              "    }\n",
              "\n",
              "    .dataframe thead th {\n",
              "        text-align: right;\n",
              "    }\n",
              "</style>\n",
              "<table border=\"1\" class=\"dataframe\">\n",
              "  <thead>\n",
              "    <tr style=\"text-align: right;\">\n",
              "      <th></th>\n",
              "      <th>Name</th>\n",
              "    </tr>\n",
              "  </thead>\n",
              "  <tbody>\n",
              "    <tr>\n",
              "      <th>0</th>\n",
              "      <td>2985F</td>\n",
              "    </tr>\n",
              "    <tr>\n",
              "      <th>1</th>\n",
              "      <td>2720F</td>\n",
              "    </tr>\n",
              "    <tr>\n",
              "      <th>2</th>\n",
              "      <td>2822F</td>\n",
              "    </tr>\n",
              "    <tr>\n",
              "      <th>3</th>\n",
              "      <td>2995M</td>\n",
              "    </tr>\n",
              "    <tr>\n",
              "      <th>4</th>\n",
              "      <td>2999M</td>\n",
              "    </tr>\n",
              "    <tr>\n",
              "      <th>...</th>\n",
              "      <td>...</td>\n",
              "    </tr>\n",
              "    <tr>\n",
              "      <th>222</th>\n",
              "      <td>2947M</td>\n",
              "    </tr>\n",
              "    <tr>\n",
              "      <th>223</th>\n",
              "      <td>2817M</td>\n",
              "    </tr>\n",
              "    <tr>\n",
              "      <th>224</th>\n",
              "      <td>2989M</td>\n",
              "    </tr>\n",
              "    <tr>\n",
              "      <th>225</th>\n",
              "      <td>2903M</td>\n",
              "    </tr>\n",
              "    <tr>\n",
              "      <th>226</th>\n",
              "      <td>2750M</td>\n",
              "    </tr>\n",
              "  </tbody>\n",
              "</table>\n",
              "<p>227 rows × 1 columns</p>\n",
              "</div>"
            ],
            "text/plain": [
              "      Name\n",
              "0    2985F\n",
              "1    2720F\n",
              "2    2822F\n",
              "3    2995M\n",
              "4    2999M\n",
              "..     ...\n",
              "222  2947M\n",
              "223  2817M\n",
              "224  2989M\n",
              "225  2903M\n",
              "226  2750M\n",
              "\n",
              "[227 rows x 1 columns]"
            ]
          },
          "metadata": {
            "tags": []
          },
          "execution_count": 8
        }
      ]
    },
    {
      "cell_type": "code",
      "metadata": {
        "id": "odp868u-osUy",
        "colab": {
          "base_uri": "https://localhost:8080/"
        },
        "outputId": "af5b795a-f98b-4ab6-cc45-5910df7a8162"
      },
      "source": [
        "len(train_name_list)"
      ],
      "execution_count": null,
      "outputs": [
        {
          "output_type": "execute_result",
          "data": {
            "text/plain": [
              "0"
            ]
          },
          "metadata": {},
          "execution_count": 4
        }
      ]
    },
    {
      "cell_type": "code",
      "metadata": {
        "id": "WUPZ69Vmowqz",
        "colab": {
          "base_uri": "https://localhost:8080/"
        },
        "outputId": "cda46ef1-7728-4763-bb11-e7e8f297e7a2"
      },
      "source": [
        "len(test_name_list)"
      ],
      "execution_count": null,
      "outputs": [
        {
          "output_type": "execute_result",
          "data": {
            "text/plain": [
              "227"
            ]
          },
          "metadata": {
            "tags": []
          },
          "execution_count": 10
        }
      ]
    },
    {
      "cell_type": "code",
      "metadata": {
        "id": "zx29Pa42oyu8"
      },
      "source": [
        "train_label = []\n",
        "for name in train_name_list:\n",
        "  train_label.append(name[11:12])"
      ],
      "execution_count": null,
      "outputs": []
    },
    {
      "cell_type": "code",
      "metadata": {
        "id": "5qx4g17Co1MN"
      },
      "source": [
        "gender = []\n",
        "for name in train_name_list:\n",
        "  gender.append(name[10:11])"
      ],
      "execution_count": null,
      "outputs": []
    },
    {
      "cell_type": "code",
      "metadata": {
        "id": "XxvhF6ex7d5b"
      },
      "source": [
        "female_test =[]\n",
        "male_test = []\n",
        "\n",
        "for name in test_name_list:\n",
        "  if(name[9:10]==\"M\"):\n",
        "    male_test.append(name)\n",
        "  if(name[9:10]==\"F\"):\n",
        "    female_test.append(name)"
      ],
      "execution_count": null,
      "outputs": []
    },
    {
      "cell_type": "code",
      "metadata": {
        "id": "2EHhtqpg_qNR"
      },
      "source": [
        "male_temp = []\n",
        "female_temp = []\n",
        "\n",
        "for i in female_test:\n",
        "  female_temp.append(i[5:10])\n",
        "for i in male_test:\n",
        "  male_temp.append(i[5:10])\n"
      ],
      "execution_count": null,
      "outputs": []
    },
    {
      "cell_type": "code",
      "metadata": {
        "id": "opS61vjOAGJG"
      },
      "source": [
        "male_df = DataFrame (male_temp ,columns=['Name'])\n",
        "female_df = DataFrame (female_temp ,columns=['Name'])"
      ],
      "execution_count": null,
      "outputs": []
    },
    {
      "cell_type": "code",
      "metadata": {
        "id": "IWy7kbQgpgtq",
        "colab": {
          "base_uri": "https://localhost:8080/",
          "height": 424
        },
        "outputId": "7f49f3ee-317f-4a66-a2bc-f92f5e3a50dc"
      },
      "source": [
        "gender = pd.get_dummies(gender)\n",
        "gender"
      ],
      "execution_count": null,
      "outputs": [
        {
          "output_type": "execute_result",
          "data": {
            "text/html": [
              "<div>\n",
              "<style scoped>\n",
              "    .dataframe tbody tr th:only-of-type {\n",
              "        vertical-align: middle;\n",
              "    }\n",
              "\n",
              "    .dataframe tbody tr th {\n",
              "        vertical-align: top;\n",
              "    }\n",
              "\n",
              "    .dataframe thead th {\n",
              "        text-align: right;\n",
              "    }\n",
              "</style>\n",
              "<table border=\"1\" class=\"dataframe\">\n",
              "  <thead>\n",
              "    <tr style=\"text-align: right;\">\n",
              "      <th></th>\n",
              "      <th>F</th>\n",
              "      <th>M</th>\n",
              "    </tr>\n",
              "  </thead>\n",
              "  <tbody>\n",
              "    <tr>\n",
              "      <th>0</th>\n",
              "      <td>0</td>\n",
              "      <td>1</td>\n",
              "    </tr>\n",
              "    <tr>\n",
              "      <th>1</th>\n",
              "      <td>0</td>\n",
              "      <td>1</td>\n",
              "    </tr>\n",
              "    <tr>\n",
              "      <th>2</th>\n",
              "      <td>0</td>\n",
              "      <td>1</td>\n",
              "    </tr>\n",
              "    <tr>\n",
              "      <th>3</th>\n",
              "      <td>1</td>\n",
              "      <td>0</td>\n",
              "    </tr>\n",
              "    <tr>\n",
              "      <th>4</th>\n",
              "      <td>1</td>\n",
              "      <td>0</td>\n",
              "    </tr>\n",
              "    <tr>\n",
              "      <th>...</th>\n",
              "      <td>...</td>\n",
              "      <td>...</td>\n",
              "    </tr>\n",
              "    <tr>\n",
              "      <th>1989</th>\n",
              "      <td>0</td>\n",
              "      <td>1</td>\n",
              "    </tr>\n",
              "    <tr>\n",
              "      <th>1990</th>\n",
              "      <td>0</td>\n",
              "      <td>1</td>\n",
              "    </tr>\n",
              "    <tr>\n",
              "      <th>1991</th>\n",
              "      <td>0</td>\n",
              "      <td>1</td>\n",
              "    </tr>\n",
              "    <tr>\n",
              "      <th>1992</th>\n",
              "      <td>0</td>\n",
              "      <td>1</td>\n",
              "    </tr>\n",
              "    <tr>\n",
              "      <th>1993</th>\n",
              "      <td>0</td>\n",
              "      <td>1</td>\n",
              "    </tr>\n",
              "  </tbody>\n",
              "</table>\n",
              "<p>1994 rows × 2 columns</p>\n",
              "</div>"
            ],
            "text/plain": [
              "      F  M\n",
              "0     0  1\n",
              "1     0  1\n",
              "2     0  1\n",
              "3     1  0\n",
              "4     1  0\n",
              "...  .. ..\n",
              "1989  0  1\n",
              "1990  0  1\n",
              "1991  0  1\n",
              "1992  0  1\n",
              "1993  0  1\n",
              "\n",
              "[1994 rows x 2 columns]"
            ]
          },
          "metadata": {
            "tags": []
          },
          "execution_count": 14
        }
      ]
    },
    {
      "cell_type": "code",
      "metadata": {
        "id": "iPNkB00hpq74",
        "colab": {
          "base_uri": "https://localhost:8080/"
        },
        "outputId": "2afd200d-9ac3-4943-912a-ad6b999438d8"
      },
      "source": [
        "gender.shape"
      ],
      "execution_count": null,
      "outputs": [
        {
          "output_type": "execute_result",
          "data": {
            "text/plain": [
              "(1994, 2)"
            ]
          },
          "metadata": {
            "tags": []
          },
          "execution_count": 15
        }
      ]
    },
    {
      "cell_type": "code",
      "metadata": {
        "id": "JUjYnmm43ZeU"
      },
      "source": [
        "female_train_label = []\n",
        "female_train = []\n",
        "\n",
        "for index in range(len(train_name_list)):\n",
        "  if gender.F[index]==1:\n",
        "    female_train.append(train_name_list[index])\n",
        "    female_train_label.append(train_label[index])"
      ],
      "execution_count": null,
      "outputs": []
    },
    {
      "cell_type": "code",
      "metadata": {
        "id": "d5WvPhpY76bD"
      },
      "source": [
        "male_train_label = []\n",
        "male_train = []\n",
        "\n",
        "for index in range(len(train_name_list)):\n",
        "    if gender.M[index]==1:\n",
        "      male_train.append(train_name_list[index])\n",
        "      male_train_label.append(train_label[index])"
      ],
      "execution_count": null,
      "outputs": []
    },
    {
      "cell_type": "code",
      "metadata": {
        "colab": {
          "base_uri": "https://localhost:8080/"
        },
        "id": "lpsHFYW-4vTP",
        "outputId": "277f0080-eb6f-45df-ab2d-84f432530f51"
      },
      "source": [
        "len(male_train)"
      ],
      "execution_count": null,
      "outputs": [
        {
          "output_type": "execute_result",
          "data": {
            "text/plain": [
              "1155"
            ]
          },
          "metadata": {
            "tags": []
          },
          "execution_count": 18
        }
      ]
    },
    {
      "cell_type": "code",
      "metadata": {
        "colab": {
          "base_uri": "https://localhost:8080/"
        },
        "id": "VJG9FYAX7uAC",
        "outputId": "025d22eb-c5f6-4f81-dc9d-9851b013bbe4"
      },
      "source": [
        "len(female_train)"
      ],
      "execution_count": null,
      "outputs": [
        {
          "output_type": "execute_result",
          "data": {
            "text/plain": [
              "839"
            ]
          },
          "metadata": {
            "tags": []
          },
          "execution_count": 19
        }
      ]
    },
    {
      "cell_type": "code",
      "metadata": {
        "colab": {
          "base_uri": "https://localhost:8080/",
          "height": 424
        },
        "id": "Q6wGeEb5WUI4",
        "outputId": "5a45a51c-1806-4271-c7ac-2acf4a379804"
      },
      "source": [
        "male_train_label = pd.get_dummies(male_train_label)\n",
        "male_train_label "
      ],
      "execution_count": null,
      "outputs": [
        {
          "output_type": "execute_result",
          "data": {
            "text/html": [
              "<div>\n",
              "<style scoped>\n",
              "    .dataframe tbody tr th:only-of-type {\n",
              "        vertical-align: middle;\n",
              "    }\n",
              "\n",
              "    .dataframe tbody tr th {\n",
              "        vertical-align: top;\n",
              "    }\n",
              "\n",
              "    .dataframe thead th {\n",
              "        text-align: right;\n",
              "    }\n",
              "</style>\n",
              "<table border=\"1\" class=\"dataframe\">\n",
              "  <thead>\n",
              "    <tr style=\"text-align: right;\">\n",
              "      <th></th>\n",
              "      <th>A</th>\n",
              "      <th>H</th>\n",
              "      <th>N</th>\n",
              "      <th>S</th>\n",
              "      <th>W</th>\n",
              "    </tr>\n",
              "  </thead>\n",
              "  <tbody>\n",
              "    <tr>\n",
              "      <th>0</th>\n",
              "      <td>1</td>\n",
              "      <td>0</td>\n",
              "      <td>0</td>\n",
              "      <td>0</td>\n",
              "      <td>0</td>\n",
              "    </tr>\n",
              "    <tr>\n",
              "      <th>1</th>\n",
              "      <td>0</td>\n",
              "      <td>0</td>\n",
              "      <td>1</td>\n",
              "      <td>0</td>\n",
              "      <td>0</td>\n",
              "    </tr>\n",
              "    <tr>\n",
              "      <th>2</th>\n",
              "      <td>0</td>\n",
              "      <td>0</td>\n",
              "      <td>1</td>\n",
              "      <td>0</td>\n",
              "      <td>0</td>\n",
              "    </tr>\n",
              "    <tr>\n",
              "      <th>3</th>\n",
              "      <td>0</td>\n",
              "      <td>0</td>\n",
              "      <td>1</td>\n",
              "      <td>0</td>\n",
              "      <td>0</td>\n",
              "    </tr>\n",
              "    <tr>\n",
              "      <th>4</th>\n",
              "      <td>1</td>\n",
              "      <td>0</td>\n",
              "      <td>0</td>\n",
              "      <td>0</td>\n",
              "      <td>0</td>\n",
              "    </tr>\n",
              "    <tr>\n",
              "      <th>...</th>\n",
              "      <td>...</td>\n",
              "      <td>...</td>\n",
              "      <td>...</td>\n",
              "      <td>...</td>\n",
              "      <td>...</td>\n",
              "    </tr>\n",
              "    <tr>\n",
              "      <th>1150</th>\n",
              "      <td>0</td>\n",
              "      <td>0</td>\n",
              "      <td>1</td>\n",
              "      <td>0</td>\n",
              "      <td>0</td>\n",
              "    </tr>\n",
              "    <tr>\n",
              "      <th>1151</th>\n",
              "      <td>1</td>\n",
              "      <td>0</td>\n",
              "      <td>0</td>\n",
              "      <td>0</td>\n",
              "      <td>0</td>\n",
              "    </tr>\n",
              "    <tr>\n",
              "      <th>1152</th>\n",
              "      <td>0</td>\n",
              "      <td>0</td>\n",
              "      <td>1</td>\n",
              "      <td>0</td>\n",
              "      <td>0</td>\n",
              "    </tr>\n",
              "    <tr>\n",
              "      <th>1153</th>\n",
              "      <td>1</td>\n",
              "      <td>0</td>\n",
              "      <td>0</td>\n",
              "      <td>0</td>\n",
              "      <td>0</td>\n",
              "    </tr>\n",
              "    <tr>\n",
              "      <th>1154</th>\n",
              "      <td>0</td>\n",
              "      <td>0</td>\n",
              "      <td>0</td>\n",
              "      <td>0</td>\n",
              "      <td>1</td>\n",
              "    </tr>\n",
              "  </tbody>\n",
              "</table>\n",
              "<p>1155 rows × 5 columns</p>\n",
              "</div>"
            ],
            "text/plain": [
              "      A  H  N  S  W\n",
              "0     1  0  0  0  0\n",
              "1     0  0  1  0  0\n",
              "2     0  0  1  0  0\n",
              "3     0  0  1  0  0\n",
              "4     1  0  0  0  0\n",
              "...  .. .. .. .. ..\n",
              "1150  0  0  1  0  0\n",
              "1151  1  0  0  0  0\n",
              "1152  0  0  1  0  0\n",
              "1153  1  0  0  0  0\n",
              "1154  0  0  0  0  1\n",
              "\n",
              "[1155 rows x 5 columns]"
            ]
          },
          "metadata": {
            "tags": []
          },
          "execution_count": 20
        }
      ]
    },
    {
      "cell_type": "code",
      "metadata": {
        "colab": {
          "base_uri": "https://localhost:8080/",
          "height": 424
        },
        "id": "CsOb7bY9W-kM",
        "outputId": "69e4d063-9a25-4a2c-d18b-d761fe15ac3c"
      },
      "source": [
        "female_train_label = pd.get_dummies(female_train_label)\n",
        "female_train_label"
      ],
      "execution_count": null,
      "outputs": [
        {
          "output_type": "execute_result",
          "data": {
            "text/html": [
              "<div>\n",
              "<style scoped>\n",
              "    .dataframe tbody tr th:only-of-type {\n",
              "        vertical-align: middle;\n",
              "    }\n",
              "\n",
              "    .dataframe tbody tr th {\n",
              "        vertical-align: top;\n",
              "    }\n",
              "\n",
              "    .dataframe thead th {\n",
              "        text-align: right;\n",
              "    }\n",
              "</style>\n",
              "<table border=\"1\" class=\"dataframe\">\n",
              "  <thead>\n",
              "    <tr style=\"text-align: right;\">\n",
              "      <th></th>\n",
              "      <th>A</th>\n",
              "      <th>H</th>\n",
              "      <th>N</th>\n",
              "      <th>S</th>\n",
              "      <th>W</th>\n",
              "    </tr>\n",
              "  </thead>\n",
              "  <tbody>\n",
              "    <tr>\n",
              "      <th>0</th>\n",
              "      <td>0</td>\n",
              "      <td>0</td>\n",
              "      <td>0</td>\n",
              "      <td>0</td>\n",
              "      <td>1</td>\n",
              "    </tr>\n",
              "    <tr>\n",
              "      <th>1</th>\n",
              "      <td>1</td>\n",
              "      <td>0</td>\n",
              "      <td>0</td>\n",
              "      <td>0</td>\n",
              "      <td>0</td>\n",
              "    </tr>\n",
              "    <tr>\n",
              "      <th>2</th>\n",
              "      <td>0</td>\n",
              "      <td>0</td>\n",
              "      <td>0</td>\n",
              "      <td>1</td>\n",
              "      <td>0</td>\n",
              "    </tr>\n",
              "    <tr>\n",
              "      <th>3</th>\n",
              "      <td>1</td>\n",
              "      <td>0</td>\n",
              "      <td>0</td>\n",
              "      <td>0</td>\n",
              "      <td>0</td>\n",
              "    </tr>\n",
              "    <tr>\n",
              "      <th>4</th>\n",
              "      <td>0</td>\n",
              "      <td>0</td>\n",
              "      <td>1</td>\n",
              "      <td>0</td>\n",
              "      <td>0</td>\n",
              "    </tr>\n",
              "    <tr>\n",
              "      <th>...</th>\n",
              "      <td>...</td>\n",
              "      <td>...</td>\n",
              "      <td>...</td>\n",
              "      <td>...</td>\n",
              "      <td>...</td>\n",
              "    </tr>\n",
              "    <tr>\n",
              "      <th>834</th>\n",
              "      <td>1</td>\n",
              "      <td>0</td>\n",
              "      <td>0</td>\n",
              "      <td>0</td>\n",
              "      <td>0</td>\n",
              "    </tr>\n",
              "    <tr>\n",
              "      <th>835</th>\n",
              "      <td>0</td>\n",
              "      <td>0</td>\n",
              "      <td>0</td>\n",
              "      <td>0</td>\n",
              "      <td>1</td>\n",
              "    </tr>\n",
              "    <tr>\n",
              "      <th>836</th>\n",
              "      <td>0</td>\n",
              "      <td>0</td>\n",
              "      <td>0</td>\n",
              "      <td>1</td>\n",
              "      <td>0</td>\n",
              "    </tr>\n",
              "    <tr>\n",
              "      <th>837</th>\n",
              "      <td>1</td>\n",
              "      <td>0</td>\n",
              "      <td>0</td>\n",
              "      <td>0</td>\n",
              "      <td>0</td>\n",
              "    </tr>\n",
              "    <tr>\n",
              "      <th>838</th>\n",
              "      <td>0</td>\n",
              "      <td>0</td>\n",
              "      <td>0</td>\n",
              "      <td>1</td>\n",
              "      <td>0</td>\n",
              "    </tr>\n",
              "  </tbody>\n",
              "</table>\n",
              "<p>839 rows × 5 columns</p>\n",
              "</div>"
            ],
            "text/plain": [
              "     A  H  N  S  W\n",
              "0    0  0  0  0  1\n",
              "1    1  0  0  0  0\n",
              "2    0  0  0  1  0\n",
              "3    1  0  0  0  0\n",
              "4    0  0  1  0  0\n",
              "..  .. .. .. .. ..\n",
              "834  1  0  0  0  0\n",
              "835  0  0  0  0  1\n",
              "836  0  0  0  1  0\n",
              "837  1  0  0  0  0\n",
              "838  0  0  0  1  0\n",
              "\n",
              "[839 rows x 5 columns]"
            ]
          },
          "metadata": {
            "tags": []
          },
          "execution_count": 21
        }
      ]
    },
    {
      "cell_type": "code",
      "metadata": {
        "id": "TJtW-OaoptnP"
      },
      "source": [
        "def extract_mfcc(file_path):\n",
        "  y,sr=librosa.load(file_path)\n",
        "  mfccs=np.mean(librosa.feature.mfcc(y=y,sr=sr,n_mfcc=36).T,axis=0)\n",
        "  return mfccs"
      ],
      "execution_count": null,
      "outputs": []
    },
    {
      "cell_type": "code",
      "metadata": {
        "id": "8J0cpWhFqLYD"
      },
      "source": [
        "def extract_cens(file_path):\n",
        "  y,sr=librosa.load(file_path)\n",
        "  cens =np.mean(librosa.feature.chroma_cens(y=y,sr=sr,n_chroma=36).T,axis=0)\n",
        "  return cens "
      ],
      "execution_count": null,
      "outputs": []
    },
    {
      "cell_type": "code",
      "metadata": {
        "id": "INIh0CrPqMKI"
      },
      "source": [
        "female_sound_feature_mfcc=[]\n",
        "female_sound_feature_cens=[]\n",
        "male_sound_feature_mfcc=[]\n",
        "male_sound_feature_cens=[]\n",
        "\n",
        "for i in range(len(female_train)):\n",
        "  female_sound_feature_mfcc.append(extract_mfcc(female_train[i]))\n",
        "  female_sound_feature_cens.append(extract_cens(female_train[i]))\n",
        "\n",
        "for i in range(len(male_train)):\n",
        "  male_sound_feature_mfcc.append(extract_mfcc(male_train[i]))\n",
        "  male_sound_feature_cens.append(extract_cens(male_train[i]))"
      ],
      "execution_count": null,
      "outputs": []
    },
    {
      "cell_type": "code",
      "metadata": {
        "id": "jH9ySQW7qaJr"
      },
      "source": [
        "female_mfcc_extracted_features =[]\n",
        "male_mfcc_extracted_features =[]\n",
        "\n",
        "for female_mfcc in female_sound_feature_mfcc:\n",
        "  feature = np.array([female_mfcc]).reshape(36,1)\n",
        "  female_mfcc_extracted_features.append(feature)\n",
        "\n",
        "for male_mfcc in male_sound_feature_mfcc:\n",
        "  feature = np.array([male_mfcc]).reshape(36,1)\n",
        "  male_mfcc_extracted_features.append(feature)\n",
        "\n",
        "male_mfcc_extracted_features = np.asarray(male_mfcc_extracted_features)\n",
        "female_mfcc_extracted_features = np.asarray(female_mfcc_extracted_features)"
      ],
      "execution_count": null,
      "outputs": []
    },
    {
      "cell_type": "code",
      "metadata": {
        "id": "tb2lj598qa1X"
      },
      "source": [
        "female_cens_extracted_features =[]\n",
        "male_cens_extracted_features =[]\n",
        "\n",
        "for female_cens in female_sound_feature_cens:\n",
        "  feature = np.array([female_cens]).reshape(36,1)\n",
        "  female_cens_extracted_features.append(feature)\n",
        "\n",
        "for male_cens in male_sound_feature_cens:\n",
        "  feature = np.array([male_cens]).reshape(36,1)\n",
        "  male_cens_extracted_features.append(feature)\n",
        "\n",
        "female_cens_extracted_features = np.asarray(female_cens_extracted_features)\n",
        "male_cens_extracted_features = np.asarray(male_cens_extracted_features)"
      ],
      "execution_count": null,
      "outputs": []
    },
    {
      "cell_type": "code",
      "metadata": {
        "id": "Pzal_OczqdW7"
      },
      "source": [
        "female_all_features = []\n",
        "for i in range(len(female_mfcc_extracted_features)):\n",
        "  features=np.array([female_mfcc_extracted_features[i],female_cens_extracted_features[i]]).reshape(36,2)\n",
        "  female_all_features.append(features)\n",
        "\n",
        "female_all_features = np.asarray(female_all_features)\n"
      ],
      "execution_count": null,
      "outputs": []
    },
    {
      "cell_type": "code",
      "metadata": {
        "id": "aGjp-P2M_hUv"
      },
      "source": [
        "male_all_features = []\n",
        "for i in range(len(male_mfcc_extracted_features)):\n",
        "  features=np.array([male_mfcc_extracted_features[i],male_cens_extracted_features[i]]).reshape(36,2)\n",
        "  male_all_features.append(features)\n",
        "\n",
        "male_all_features = np.asarray(male_all_features)\n"
      ],
      "execution_count": null,
      "outputs": []
    },
    {
      "cell_type": "code",
      "metadata": {
        "id": "Cqy5PBtGBxi9"
      },
      "source": [
        "male_test_sound_feature_mfcc=[]\n",
        "male_test_sound_feature_cens=[]\n",
        "\n",
        "for name in male_test:\n",
        "  male_test_sound_feature_mfcc.append(extract_mfcc(name))\n",
        "  male_test_sound_feature_cens.append(extract_cens(name))"
      ],
      "execution_count": null,
      "outputs": []
    },
    {
      "cell_type": "code",
      "metadata": {
        "id": "FPJ6gsfiCWKL"
      },
      "source": [
        "female_test_sound_feature_mfcc=[]\n",
        "female_test_sound_feature_cens=[]\n",
        "\n",
        "for name in female_test:\n",
        "  female_test_sound_feature_mfcc.append(extract_mfcc(name))\n",
        "  female_test_sound_feature_cens.append(extract_cens(name))"
      ],
      "execution_count": null,
      "outputs": []
    },
    {
      "cell_type": "code",
      "metadata": {
        "id": "6eWy12ylF2ZB"
      },
      "source": [
        "male_test_mfcc_extracted_features =[]\n",
        "female_test_mfcc_extracted_features =[]\n",
        "\n",
        "for i in range(len(female_test)):\n",
        "  mfcc = female_test_sound_feature_mfcc[i]\n",
        "  feature = np.array([mfcc]).reshape(36,1)\n",
        "  female_test_mfcc_extracted_features.append(feature)\n",
        "\n",
        "for i in range(len(male_test)):\n",
        "  mfcc = male_test_sound_feature_mfcc[i]\n",
        "  feature = np.array([mfcc]).reshape(36,1)\n",
        "  male_test_mfcc_extracted_features.append(feature)\n",
        "\n",
        "\n",
        "female_test_mfcc_extracted_features = np.asarray(female_test_mfcc_extracted_features)\n",
        "male_test_mfcc_extracted_features = np.asarray(male_test_mfcc_extracted_features)\n"
      ],
      "execution_count": null,
      "outputs": []
    },
    {
      "cell_type": "code",
      "metadata": {
        "id": "ssk1-IlFGdVK"
      },
      "source": [
        "male_test_cens_extracted_features =[]\n",
        "female_test_cens_extracted_features =[]\n",
        "\n",
        "for i in range(len(female_test)):\n",
        "  cens = female_test_sound_feature_cens[i]\n",
        "  feature = np.array([cens]).reshape(36,1)\n",
        "  female_test_cens_extracted_features.append(feature)\n",
        "\n",
        "for i in range(len(male_test)):\n",
        "  cens = male_test_sound_feature_cens[i]\n",
        "  feature = np.array([cens]).reshape(36,1)\n",
        "  male_test_cens_extracted_features.append(feature)\n",
        "\n",
        "female_test_cens_extracted_features = np.asarray(female_test_cens_extracted_features)\n",
        "male_test_cens_extracted_features = np.asarray(male_test_cens_extracted_features)"
      ],
      "execution_count": null,
      "outputs": []
    },
    {
      "cell_type": "code",
      "metadata": {
        "id": "TIrOHbk4Jp5z"
      },
      "source": [
        "male_all_test_features = []\n",
        "for i in range(len(male_test_mfcc_extracted_features)):\n",
        "  features=np.array([male_test_mfcc_extracted_features[i],male_test_cens_extracted_features[i]]).reshape(36,2)\n",
        "  male_all_test_features.append(features)\n",
        "\n",
        "male_all_test_features = np.asarray(male_all_test_features)\n"
      ],
      "execution_count": null,
      "outputs": []
    },
    {
      "cell_type": "code",
      "metadata": {
        "id": "-tgyQLGDJtpj"
      },
      "source": [
        "female_test_all_features = []\n",
        "for i in range(len(female_test_mfcc_extracted_features)):\n",
        "  features=np.array([female_test_mfcc_extracted_features[i],female_test_cens_extracted_features[i]]).reshape(36,2)\n",
        "  female_test_all_features.append(features)\n",
        "\n",
        "female_test_all_features = np.asarray(female_test_all_features)\n"
      ],
      "execution_count": null,
      "outputs": []
    },
    {
      "cell_type": "markdown",
      "metadata": {
        "id": "93sxMdfuHMG9"
      },
      "source": [
        "model for male"
      ]
    },
    {
      "cell_type": "code",
      "metadata": {
        "id": "20vSsNRyqnRj"
      },
      "source": [
        "input_layer = Input(shape=(36,2) ,name='input')\n",
        "lstm_layer = LSTM(128 ,return_sequences=False)(input_layer)\n",
        "hidden_layer1 = Dense(32 ,activation='relu' ,name='layer1')(lstm_layer)\n",
        "hidden_layer2 = Dense(16 ,activation='relu' ,name='layer2')(hidden_layer1)\n",
        "dropout_layer = Dropout(0.5)(hidden_layer2)\n",
        "hidden_layer3 = Dense(8 ,activation='relu' ,name='layer3')(dropout_layer)\n",
        "output_layer = Dense(5 ,activation='softmax' ,name='output')(hidden_layer3)\n"
      ],
      "execution_count": null,
      "outputs": []
    },
    {
      "cell_type": "code",
      "metadata": {
        "id": "xsoPDzryiyko",
        "colab": {
          "base_uri": "https://localhost:8080/"
        },
        "outputId": "07f337f7-e10e-49f5-be44-6861e509f3a0"
      },
      "source": [
        "model_1 = Model( inputs=input_layer, outputs=output_layer ,name='model')\n",
        "model_1.summary()"
      ],
      "execution_count": null,
      "outputs": [
        {
          "output_type": "stream",
          "text": [
            "Model: \"model\"\n",
            "_________________________________________________________________\n",
            "Layer (type)                 Output Shape              Param #   \n",
            "=================================================================\n",
            "input (InputLayer)           [(None, 36, 2)]           0         \n",
            "_________________________________________________________________\n",
            "lstm_1 (LSTM)                (None, 128)               67072     \n",
            "_________________________________________________________________\n",
            "layer1 (Dense)               (None, 32)                4128      \n",
            "_________________________________________________________________\n",
            "layer2 (Dense)               (None, 16)                528       \n",
            "_________________________________________________________________\n",
            "dropout_1 (Dropout)          (None, 16)                0         \n",
            "_________________________________________________________________\n",
            "layer3 (Dense)               (None, 8)                 136       \n",
            "_________________________________________________________________\n",
            "output (Dense)               (None, 5)                 45        \n",
            "=================================================================\n",
            "Total params: 71,909\n",
            "Trainable params: 71,909\n",
            "Non-trainable params: 0\n",
            "_________________________________________________________________\n"
          ],
          "name": "stdout"
        }
      ]
    },
    {
      "cell_type": "code",
      "metadata": {
        "id": "WpZESEAai99p"
      },
      "source": [
        "sgd = Adam(lr=0.0001)\n",
        "model_1.compile(optimizer=sgd, loss='categorical_crossentropy', metrics=['accuracy'])"
      ],
      "execution_count": null,
      "outputs": []
    },
    {
      "cell_type": "code",
      "metadata": {
        "id": "zDRcp0UFi-vk",
        "colab": {
          "base_uri": "https://localhost:8080/"
        },
        "outputId": "64ebd3a1-dd51-472c-eac3-ff7627bd4f25"
      },
      "source": [
        "history = model_1.fit(male_all_features ,male_train_label ,epochs=70 ,batch_size=32 ,verbose=1)"
      ],
      "execution_count": null,
      "outputs": [
        {
          "output_type": "stream",
          "text": [
            "Epoch 1/70\n",
            "37/37 [==============================] - 3s 34ms/step - loss: 1.6086 - accuracy: 0.2118\n",
            "Epoch 2/70\n",
            "37/37 [==============================] - 1s 34ms/step - loss: 1.5990 - accuracy: 0.3828\n",
            "Epoch 3/70\n",
            "37/37 [==============================] - 1s 34ms/step - loss: 1.5762 - accuracy: 0.3914\n",
            "Epoch 4/70\n",
            "37/37 [==============================] - 1s 38ms/step - loss: 1.4923 - accuracy: 0.4169\n",
            "Epoch 5/70\n",
            "37/37 [==============================] - 1s 34ms/step - loss: 1.4321 - accuracy: 0.4435\n",
            "Epoch 6/70\n",
            "37/37 [==============================] - 1s 34ms/step - loss: 1.3256 - accuracy: 0.4870\n",
            "Epoch 7/70\n",
            "37/37 [==============================] - 1s 34ms/step - loss: 1.2910 - accuracy: 0.5417\n",
            "Epoch 8/70\n",
            "37/37 [==============================] - 1s 34ms/step - loss: 1.3035 - accuracy: 0.5110\n",
            "Epoch 9/70\n",
            "37/37 [==============================] - 1s 34ms/step - loss: 1.2502 - accuracy: 0.5397\n",
            "Epoch 10/70\n",
            "37/37 [==============================] - 1s 35ms/step - loss: 1.2154 - accuracy: 0.5732\n",
            "Epoch 11/70\n",
            "37/37 [==============================] - 1s 34ms/step - loss: 1.2358 - accuracy: 0.5795\n",
            "Epoch 12/70\n",
            "37/37 [==============================] - 1s 34ms/step - loss: 1.2218 - accuracy: 0.5824\n",
            "Epoch 13/70\n",
            "37/37 [==============================] - 1s 34ms/step - loss: 1.1962 - accuracy: 0.5692\n",
            "Epoch 14/70\n",
            "37/37 [==============================] - 1s 34ms/step - loss: 1.1840 - accuracy: 0.6007\n",
            "Epoch 15/70\n",
            "37/37 [==============================] - 1s 36ms/step - loss: 1.1797 - accuracy: 0.6055\n",
            "Epoch 16/70\n",
            "37/37 [==============================] - 1s 34ms/step - loss: 1.1584 - accuracy: 0.6165\n",
            "Epoch 17/70\n",
            "37/37 [==============================] - 1s 34ms/step - loss: 1.1150 - accuracy: 0.6328\n",
            "Epoch 18/70\n",
            "37/37 [==============================] - 1s 34ms/step - loss: 1.1290 - accuracy: 0.6316\n",
            "Epoch 19/70\n",
            "37/37 [==============================] - 1s 36ms/step - loss: 1.1100 - accuracy: 0.6404\n",
            "Epoch 20/70\n",
            "37/37 [==============================] - 1s 35ms/step - loss: 1.1395 - accuracy: 0.6289\n",
            "Epoch 21/70\n",
            "37/37 [==============================] - 1s 34ms/step - loss: 1.1169 - accuracy: 0.6257\n",
            "Epoch 22/70\n",
            "37/37 [==============================] - 1s 34ms/step - loss: 1.1205 - accuracy: 0.6344\n",
            "Epoch 23/70\n",
            "37/37 [==============================] - 1s 35ms/step - loss: 1.0682 - accuracy: 0.6644\n",
            "Epoch 24/70\n",
            "37/37 [==============================] - 1s 34ms/step - loss: 1.0924 - accuracy: 0.6474\n",
            "Epoch 25/70\n",
            "37/37 [==============================] - 1s 34ms/step - loss: 1.0769 - accuracy: 0.6576\n",
            "Epoch 26/70\n",
            "37/37 [==============================] - 1s 35ms/step - loss: 1.0718 - accuracy: 0.6606\n",
            "Epoch 27/70\n",
            "37/37 [==============================] - 1s 34ms/step - loss: 1.0254 - accuracy: 0.6710\n",
            "Epoch 28/70\n",
            "37/37 [==============================] - 1s 35ms/step - loss: 1.0145 - accuracy: 0.6717\n",
            "Epoch 29/70\n",
            "37/37 [==============================] - 1s 37ms/step - loss: 1.0170 - accuracy: 0.6673\n",
            "Epoch 30/70\n",
            "37/37 [==============================] - 1s 36ms/step - loss: 1.0193 - accuracy: 0.6618\n",
            "Epoch 31/70\n",
            "37/37 [==============================] - 1s 38ms/step - loss: 1.0470 - accuracy: 0.6688\n",
            "Epoch 32/70\n",
            "37/37 [==============================] - 1s 33ms/step - loss: 1.0712 - accuracy: 0.6370\n",
            "Epoch 33/70\n",
            "37/37 [==============================] - 1s 34ms/step - loss: 0.9982 - accuracy: 0.6878\n",
            "Epoch 34/70\n",
            "37/37 [==============================] - 1s 35ms/step - loss: 1.0318 - accuracy: 0.6481\n",
            "Epoch 35/70\n",
            "37/37 [==============================] - 1s 34ms/step - loss: 0.9951 - accuracy: 0.6527\n",
            "Epoch 36/70\n",
            "37/37 [==============================] - 1s 34ms/step - loss: 1.0140 - accuracy: 0.6551\n",
            "Epoch 37/70\n",
            "37/37 [==============================] - 1s 35ms/step - loss: 1.0147 - accuracy: 0.6689\n",
            "Epoch 38/70\n",
            "37/37 [==============================] - 1s 36ms/step - loss: 1.0170 - accuracy: 0.6826\n",
            "Epoch 39/70\n",
            "37/37 [==============================] - 1s 35ms/step - loss: 0.9528 - accuracy: 0.6966\n",
            "Epoch 40/70\n",
            "37/37 [==============================] - 1s 34ms/step - loss: 1.0139 - accuracy: 0.6656\n",
            "Epoch 41/70\n",
            "37/37 [==============================] - 1s 35ms/step - loss: 0.9813 - accuracy: 0.6684\n",
            "Epoch 42/70\n",
            "37/37 [==============================] - 1s 34ms/step - loss: 1.0121 - accuracy: 0.6748\n",
            "Epoch 43/70\n",
            "37/37 [==============================] - 1s 38ms/step - loss: 0.9640 - accuracy: 0.6812\n",
            "Epoch 44/70\n",
            "37/37 [==============================] - 1s 34ms/step - loss: 0.9900 - accuracy: 0.6919\n",
            "Epoch 45/70\n",
            "37/37 [==============================] - 1s 34ms/step - loss: 0.9715 - accuracy: 0.6933\n",
            "Epoch 46/70\n",
            "37/37 [==============================] - 1s 35ms/step - loss: 0.9881 - accuracy: 0.6760\n",
            "Epoch 47/70\n",
            "37/37 [==============================] - 1s 35ms/step - loss: 0.9525 - accuracy: 0.7042\n",
            "Epoch 48/70\n",
            "37/37 [==============================] - 1s 35ms/step - loss: 1.0403 - accuracy: 0.6582\n",
            "Epoch 49/70\n",
            "37/37 [==============================] - 1s 37ms/step - loss: 0.9990 - accuracy: 0.6759\n",
            "Epoch 50/70\n",
            "37/37 [==============================] - 1s 35ms/step - loss: 0.9863 - accuracy: 0.6680\n",
            "Epoch 51/70\n",
            "37/37 [==============================] - 1s 35ms/step - loss: 0.9313 - accuracy: 0.6997\n",
            "Epoch 52/70\n",
            "37/37 [==============================] - 1s 35ms/step - loss: 0.9341 - accuracy: 0.6863\n",
            "Epoch 53/70\n",
            "37/37 [==============================] - 1s 36ms/step - loss: 0.9983 - accuracy: 0.6717\n",
            "Epoch 54/70\n",
            "37/37 [==============================] - 1s 38ms/step - loss: 0.9357 - accuracy: 0.6946\n",
            "Epoch 55/70\n",
            "37/37 [==============================] - 1s 35ms/step - loss: 0.9573 - accuracy: 0.6832\n",
            "Epoch 56/70\n",
            "37/37 [==============================] - 1s 35ms/step - loss: 0.9123 - accuracy: 0.7193\n",
            "Epoch 57/70\n",
            "37/37 [==============================] - 1s 36ms/step - loss: 0.9194 - accuracy: 0.7111\n",
            "Epoch 58/70\n",
            "37/37 [==============================] - 1s 35ms/step - loss: 0.9331 - accuracy: 0.7081\n",
            "Epoch 59/70\n",
            "37/37 [==============================] - 1s 34ms/step - loss: 0.9802 - accuracy: 0.7052\n",
            "Epoch 60/70\n",
            "37/37 [==============================] - 1s 35ms/step - loss: 0.9360 - accuracy: 0.6717\n",
            "Epoch 61/70\n",
            "37/37 [==============================] - 1s 35ms/step - loss: 0.9337 - accuracy: 0.7084\n",
            "Epoch 62/70\n",
            "37/37 [==============================] - 1s 35ms/step - loss: 0.8705 - accuracy: 0.7137\n",
            "Epoch 63/70\n",
            "37/37 [==============================] - 1s 35ms/step - loss: 0.8966 - accuracy: 0.7211\n",
            "Epoch 64/70\n",
            "37/37 [==============================] - 1s 34ms/step - loss: 0.9126 - accuracy: 0.6971\n",
            "Epoch 65/70\n",
            "37/37 [==============================] - 1s 35ms/step - loss: 0.8976 - accuracy: 0.7099\n",
            "Epoch 66/70\n",
            "37/37 [==============================] - 1s 34ms/step - loss: 0.9044 - accuracy: 0.7150\n",
            "Epoch 67/70\n",
            "37/37 [==============================] - 1s 35ms/step - loss: 0.8206 - accuracy: 0.7415\n",
            "Epoch 68/70\n",
            "37/37 [==============================] - 1s 34ms/step - loss: 0.9168 - accuracy: 0.7068\n",
            "Epoch 69/70\n",
            "37/37 [==============================] - 1s 34ms/step - loss: 0.8974 - accuracy: 0.7286\n",
            "Epoch 70/70\n",
            "37/37 [==============================] - 1s 35ms/step - loss: 0.8993 - accuracy: 0.6999\n"
          ],
          "name": "stdout"
        }
      ]
    },
    {
      "cell_type": "code",
      "metadata": {
        "id": "mNTHbPI7a6_W"
      },
      "source": [
        "model.save_weights('male_weights_3.h5') \n",
        "model.save('male_model_3.h5')   "
      ],
      "execution_count": null,
      "outputs": []
    },
    {
      "cell_type": "code",
      "metadata": {
        "id": "abjFiilOkHsQ",
        "colab": {
          "base_uri": "https://localhost:8080/",
          "height": 350
        },
        "outputId": "1ce4c415-6c72-4054-93c6-823f847044f5"
      },
      "source": [
        "plt.figure(figsize=(10,5))\n",
        "plt.plot(history.history['accuracy'])\n",
        "plt.title('male model accuracy')\n",
        "plt.ylabel('accuracy')\n",
        "plt.xlabel('epoch')\n",
        "plt.legend(['train'], loc='lower right')\n",
        "plt.show()"
      ],
      "execution_count": null,
      "outputs": [
        {
          "output_type": "display_data",
          "data": {
            "image/png": "[encoded data removed]",
            "text/plain": [
              "<Figure size 720x360 with 1 Axes>"
            ]
          },
          "metadata": {
            "tags": [],
            "needs_background": "light"
          }
        }
      ]
    },
    {
      "cell_type": "code",
      "metadata": {
        "id": "mAzd6ZqtkHwv",
        "colab": {
          "base_uri": "https://localhost:8080/",
          "height": 350
        },
        "outputId": "572f7e2a-a28d-4736-96eb-7f593c97e1e5"
      },
      "source": [
        "plt.figure(figsize=(10,5))\n",
        "plt.plot(history.history['loss'])\n",
        "plt.title('male model loss')\n",
        "plt.ylabel('loss')\n",
        "plt.xlabel('epoch')\n",
        "plt.legend(['train'], loc='upper right')\n",
        "plt.show()"
      ],
      "execution_count": null,
      "outputs": [
        {
          "output_type": "display_data",
          "data": {
            "image/png": "[encoded data removed]",
            "text/plain": [
              "<Figure size 720x360 with 1 Axes>"
            ]
          },
          "metadata": {
            "tags": [],
            "needs_background": "light"
          }
        }
      ]
    },
    {
      "cell_type": "code",
      "metadata": {
        "colab": {
          "base_uri": "https://localhost:8080/"
        },
        "id": "aLlk-UMHBBip",
        "outputId": "ce0a273a-354a-4136-c390-04c19fb2c524"
      },
      "source": [
        "male_predicted = model_1.predict(male_all_test_features)\n",
        "male_predicted"
      ],
      "execution_count": null,
      "outputs": [
        {
          "output_type": "execute_result",
          "data": {
            "text/plain": [
              "array([[3.39004844e-02, 2.90655065e-02, 8.83799434e-01, 4.18094844e-02,\n",
              "        1.14250481e-02],\n",
              "       [2.16220953e-02, 2.06940193e-02, 9.21190560e-01, 2.95504779e-02,\n",
              "        6.94277650e-03],\n",
              "       [1.12348028e-01, 9.60794240e-02, 6.02532029e-01, 1.22627616e-01,\n",
              "        6.64129108e-02],\n",
              "       [1.60970390e-01, 8.47566724e-02, 5.72415233e-01, 1.18260540e-01,\n",
              "        6.35971427e-02],\n",
              "       [1.92827374e-01, 1.65694654e-01, 2.68936813e-01, 1.94121853e-01,\n",
              "        1.78419188e-01],\n",
              "       [7.78438032e-01, 4.94117066e-02, 1.08436920e-01, 5.49678542e-02,\n",
              "        8.74537602e-03],\n",
              "       [2.76190490e-01, 8.58487263e-02, 4.76485044e-01, 1.09538369e-01,\n",
              "        5.19373566e-02],\n",
              "       [2.57098172e-02, 2.41082590e-02, 9.07165945e-01, 3.43852602e-02,\n",
              "        8.63075443e-03],\n",
              "       [2.15507690e-02, 2.06025243e-02, 9.21488047e-01, 2.94616427e-02,\n",
              "        6.89699408e-03],\n",
              "       [5.43442257e-02, 4.10602838e-02, 8.26725483e-01, 5.85198998e-02,\n",
              "        1.93501208e-02],\n",
              "       [9.56432760e-01, 6.27678307e-03, 2.57496554e-02, 1.10003818e-02,\n",
              "        5.40409994e-04],\n",
              "       [5.19630089e-02, 4.33246382e-02, 8.22749794e-01, 6.14025109e-02,\n",
              "        2.05599684e-02],\n",
              "       [2.51999162e-02, 2.28919964e-02, 9.10859108e-01, 3.29908133e-02,\n",
              "        8.05815496e-03],\n",
              "       [1.88852370e-01, 1.55382812e-01, 3.10916632e-01, 1.84244618e-01,\n",
              "        1.60603508e-01],\n",
              "       [7.64711559e-01, 5.26035875e-02, 1.12241283e-01, 6.01109117e-02,\n",
              "        1.03327017e-02],\n",
              "       [7.05207884e-01, 5.93521222e-02, 1.61836505e-01, 6.17599599e-02,\n",
              "        1.18434569e-02],\n",
              "       [2.96191573e-01, 1.15066834e-01, 3.73681873e-01, 1.36698931e-01,\n",
              "        7.83607364e-02],\n",
              "       [1.07811630e-01, 8.61434117e-02, 6.34266794e-01, 1.14067510e-01,\n",
              "        5.77106066e-02],\n",
              "       [9.82333541e-01, 2.19899067e-03, 1.09868087e-02, 4.35338262e-03,\n",
              "        1.27174077e-04],\n",
              "       [1.88851163e-01, 1.58304498e-01, 3.05058002e-01, 1.82017863e-01,\n",
              "        1.65768534e-01],\n",
              "       [8.24014619e-02, 6.65190518e-02, 7.22685814e-01, 8.86903405e-02,\n",
              "        3.97033393e-02],\n",
              "       [9.38867152e-01, 9.88519285e-03, 3.45234536e-02, 1.57468040e-02,\n",
              "        9.77405231e-04],\n",
              "       [1.84733331e-01, 1.23444095e-01, 4.25967902e-01, 1.52349442e-01,\n",
              "        1.13505207e-01],\n",
              "       [9.43889856e-01, 8.79732426e-03, 3.20723653e-02, 1.43991364e-02,\n",
              "        8.41342728e-04],\n",
              "       [1.54316679e-01, 1.35538727e-01, 4.28458244e-01, 1.63921416e-01,\n",
              "        1.17764995e-01],\n",
              "       [2.75709569e-01, 1.44330680e-01, 2.79341042e-01, 1.72200337e-01,\n",
              "        1.28418371e-01],\n",
              "       [1.16273627e-01, 8.26544911e-02, 6.33326590e-01, 1.10600211e-01,\n",
              "        5.71450703e-02],\n",
              "       [8.59818012e-02, 6.05863743e-02, 7.32371569e-01, 8.59465078e-02,\n",
              "        3.51137444e-02],\n",
              "       [2.51517892e-02, 2.35308334e-02, 9.09456670e-01, 3.34655941e-02,\n",
              "        8.39506369e-03],\n",
              "       [2.11910252e-02, 2.01562196e-02, 9.22985792e-01, 2.89841145e-02,\n",
              "        6.68277778e-03],\n",
              "       [2.37326846e-02, 2.23536640e-02, 9.14336026e-01, 3.18144597e-02,\n",
              "        7.76309939e-03],\n",
              "       [2.28693001e-02, 2.16485634e-02, 9.17146683e-01, 3.09229717e-02,\n",
              "        7.41251558e-03],\n",
              "       [9.46375057e-02, 6.64262548e-02, 7.03418374e-01, 9.50518996e-02,\n",
              "        4.04660106e-02],\n",
              "       [9.90710199e-01, 1.19186449e-03, 5.68206422e-03, 2.36273929e-03,\n",
              "        5.30234283e-05],\n",
              "       [1.60192758e-01, 1.47760347e-01, 3.89061928e-01, 1.66310504e-01,\n",
              "        1.36674389e-01],\n",
              "       [9.20773149e-01, 1.32364230e-02, 4.18450311e-02, 2.19321568e-02,\n",
              "        2.21321103e-03],\n",
              "       [4.72656451e-02, 4.15838324e-02, 8.33020508e-01, 5.93955293e-02,\n",
              "        1.87344309e-02],\n",
              "       [1.07277267e-01, 8.54076892e-02, 6.38547421e-01, 1.11518137e-01,\n",
              "        5.72493486e-02],\n",
              "       [1.88753173e-01, 1.63095802e-01, 2.87703991e-01, 1.88015506e-01,\n",
              "        1.72431573e-01],\n",
              "       [1.58980310e-01, 1.33271679e-01, 4.34567064e-01, 1.52787328e-01,\n",
              "        1.20393552e-01],\n",
              "       [3.07522174e-02, 2.78090127e-02, 8.91531229e-01, 3.92127857e-02,\n",
              "        1.06948242e-02],\n",
              "       [1.08629987e-01, 7.66974166e-02, 6.59969509e-01, 1.03648931e-01,\n",
              "        5.10541722e-02],\n",
              "       [9.72099826e-02, 7.79358894e-02, 6.69033527e-01, 1.07278533e-01,\n",
              "        4.85420600e-02],\n",
              "       [1.44918039e-01, 1.31716564e-01, 4.57174093e-01, 1.56084672e-01,\n",
              "        1.10106662e-01],\n",
              "       [7.00074658e-02, 5.56330048e-02, 7.67648518e-01, 7.65755475e-02,\n",
              "        3.01355384e-02],\n",
              "       [3.99892777e-02, 3.53533365e-02, 8.59038651e-01, 5.08127175e-02,\n",
              "        1.48060145e-02],\n",
              "       [3.15038294e-01, 1.48458824e-01, 2.85581738e-01, 1.49466500e-01,\n",
              "        1.01454698e-01],\n",
              "       [5.82046926e-01, 1.11862294e-01, 1.03739657e-01, 1.56935275e-01,\n",
              "        4.54158373e-02],\n",
              "       [8.80465686e-01, 2.40964536e-02, 6.06666468e-02, 3.16405743e-02,\n",
              "        3.13052186e-03],\n",
              "       [1.71422526e-01, 2.03508690e-01, 1.87695310e-01, 3.06591570e-01,\n",
              "        1.30781904e-01],\n",
              "       [3.53299640e-02, 3.25510204e-02, 8.72932374e-01, 4.60644290e-02,\n",
              "        1.31222056e-02],\n",
              "       [3.68370041e-02, 3.09171621e-02, 8.75413775e-01, 4.42118533e-02,\n",
              "        1.26201520e-02],\n",
              "       [1.26904935e-01, 9.10994783e-02, 5.93001068e-01, 1.23695768e-01,\n",
              "        6.52986765e-02],\n",
              "       [8.27924490e-01, 3.76389399e-02, 8.60590413e-02, 4.30294797e-02,\n",
              "        5.34808263e-03],\n",
              "       [3.41157541e-02, 3.28881219e-02, 8.74716580e-01, 4.49579842e-02,\n",
              "        1.33215310e-02],\n",
              "       [2.51497515e-02, 2.36670077e-02, 9.09113467e-01, 3.36544998e-02,\n",
              "        8.41528084e-03],\n",
              "       [2.56791022e-02, 2.36724410e-02, 9.08255219e-01, 3.39665785e-02,\n",
              "        8.42666999e-03],\n",
              "       [9.92557764e-01, 9.53900511e-04, 4.49607940e-03, 1.95231033e-03,\n",
              "        3.98433112e-05],\n",
              "       [2.26337481e-02, 2.11795066e-02, 9.18430984e-01, 3.05706002e-02,\n",
              "        7.18511641e-03],\n",
              "       [6.28114045e-01, 7.74510950e-02, 1.99440271e-01, 7.55632594e-02,\n",
              "        1.94313563e-02],\n",
              "       [2.35070363e-02, 2.19820347e-02, 9.15379405e-01, 3.15481164e-02,\n",
              "        7.58347660e-03],\n",
              "       [9.85923767e-01, 1.73817214e-03, 8.69989116e-03, 3.54367029e-03,\n",
              "        9.44411950e-05],\n",
              "       [5.40234782e-02, 4.35971208e-02, 8.18091393e-01, 6.37704656e-02,\n",
              "        2.05175243e-02],\n",
              "       [1.61967009e-01, 2.04594731e-01, 1.68359771e-01, 3.59334260e-01,\n",
              "        1.05744243e-01],\n",
              "       [3.09130531e-02, 2.85588317e-02, 8.88745189e-01, 4.08807173e-02,\n",
              "        1.09021999e-02],\n",
              "       [1.21158704e-01, 8.93907994e-02, 6.07226551e-01, 1.19042575e-01,\n",
              "        6.31812960e-02],\n",
              "       [3.39219093e-01, 1.19011343e-01, 3.51808190e-01, 1.22702979e-01,\n",
              "        6.72584325e-02],\n",
              "       [1.41048238e-01, 8.05342197e-02, 6.03796601e-01, 1.13748133e-01,\n",
              "        6.08727969e-02],\n",
              "       [2.13750556e-01, 1.09405056e-01, 4.40854192e-01, 1.46932721e-01,\n",
              "        8.90574083e-02],\n",
              "       [1.06840044e-01, 8.14471394e-02, 6.47218883e-01, 1.09525681e-01,\n",
              "        5.49681969e-02],\n",
              "       [9.48716030e-02, 6.62167668e-02, 7.07946181e-01, 9.04355422e-02,\n",
              "        4.05299440e-02],\n",
              "       [1.67952850e-01, 1.45825684e-01, 3.77544016e-01, 1.70056239e-01,\n",
              "        1.38621256e-01],\n",
              "       [1.62743613e-01, 1.14873283e-01, 4.70024705e-01, 1.54756710e-01,\n",
              "        9.76017639e-02],\n",
              "       [1.15740523e-01, 7.85479993e-02, 6.38412595e-01, 1.14287414e-01,\n",
              "        5.30115068e-02],\n",
              "       [6.15554154e-01, 7.25416467e-02, 2.13736460e-01, 7.89545625e-02,\n",
              "        1.92130767e-02],\n",
              "       [9.78404343e-01, 2.77715176e-03, 1.33200474e-02, 5.32319676e-03,\n",
              "        1.75140973e-04],\n",
              "       [2.55270422e-01, 8.85227099e-02, 4.88875210e-01, 1.11377068e-01,\n",
              "        5.59544861e-02],\n",
              "       [2.56223734e-02, 2.38485094e-02, 9.07794237e-01, 3.42274792e-02,\n",
              "        8.50745477e-03],\n",
              "       [9.92790699e-01, 9.06370929e-04, 4.37050592e-03, 1.89527473e-03,\n",
              "        3.71926690e-05],\n",
              "       [8.63513350e-02, 5.77514879e-02, 7.40137160e-01, 8.30623507e-02,\n",
              "        3.26976031e-02],\n",
              "       [1.20263584e-01, 8.16627890e-02, 6.29115164e-01, 1.12662569e-01,\n",
              "        5.62958382e-02],\n",
              "       [2.40510032e-02, 2.22230926e-02, 9.13947701e-01, 3.20912413e-02,\n",
              "        7.68690230e-03],\n",
              "       [3.79170068e-02, 3.58591527e-02, 8.61594856e-01, 4.96380739e-02,\n",
              "        1.49909258e-02],\n",
              "       [2.29749940e-02, 2.16408279e-02, 9.17052269e-01, 3.09171174e-02,\n",
              "        7.41483178e-03],\n",
              "       [1.76723465e-01, 1.80128753e-01, 2.18059570e-01, 2.90434837e-01,\n",
              "        1.34653419e-01],\n",
              "       [2.45102327e-02, 2.30415333e-02, 9.11530674e-01, 3.28122936e-02,\n",
              "        8.10531527e-03],\n",
              "       [9.60410655e-01, 5.47497440e-03, 2.37061996e-02, 9.95000452e-03,\n",
              "        4.58166585e-04],\n",
              "       [2.38718707e-02, 2.21985970e-02, 9.14212167e-01, 3.20317522e-02,\n",
              "        7.68566644e-03],\n",
              "       [9.78607774e-01, 2.79965787e-03, 1.31213954e-02, 5.29412087e-03,\n",
              "        1.77051770e-04],\n",
              "       [4.05127078e-01, 1.05812728e-01, 3.41201931e-01, 1.02052510e-01,\n",
              "        4.58058342e-02],\n",
              "       [9.61000860e-01, 6.03264198e-03, 2.19227728e-02, 1.04250014e-02,\n",
              "        6.18689926e-04],\n",
              "       [2.16976199e-02, 2.07099561e-02, 9.20970082e-01, 2.96823829e-02,\n",
              "        6.94002258e-03],\n",
              "       [2.52291411e-01, 1.54303193e-01, 2.53835380e-01, 1.82688013e-01,\n",
              "        1.56882033e-01],\n",
              "       [6.44318283e-01, 7.96014741e-02, 1.71336591e-01, 8.36307406e-02,\n",
              "        2.11128369e-02],\n",
              "       [1.79653689e-01, 1.51344553e-01, 3.39341760e-01, 1.79339349e-01,\n",
              "        1.50320634e-01],\n",
              "       [8.57909620e-02, 6.08746111e-02, 7.34137118e-01, 8.38535652e-02,\n",
              "        3.53437364e-02],\n",
              "       [5.73214404e-02, 5.01400791e-02, 7.98650146e-01, 6.92352131e-02,\n",
              "        2.46531852e-02],\n",
              "       [2.09213927e-01, 8.33063200e-02, 5.40300071e-01, 1.08573668e-01,\n",
              "        5.86060770e-02],\n",
              "       [6.14896715e-01, 7.85430297e-02, 1.62042290e-01, 1.07696258e-01,\n",
              "        3.68217267e-02],\n",
              "       [1.77714705e-01, 1.51512325e-01, 3.42084289e-01, 1.79135174e-01,\n",
              "        1.49553508e-01],\n",
              "       [9.92397487e-01, 9.55255702e-04, 4.62965248e-03, 1.97770167e-03,\n",
              "        3.98527991e-05],\n",
              "       [3.46662730e-01, 1.00720339e-01, 3.90530944e-01, 1.09992728e-01,\n",
              "        5.20932637e-02],\n",
              "       [1.92987800e-01, 1.43772915e-01, 3.56281191e-01, 1.63415536e-01,\n",
              "        1.43542588e-01],\n",
              "       [9.91313875e-01, 1.14645599e-03, 5.21679735e-03, 2.27090321e-03,\n",
              "        5.20359499e-05],\n",
              "       [6.81560874e-01, 8.61460716e-02, 8.24510157e-02, 1.19465224e-01,\n",
              "        3.03769186e-02],\n",
              "       [2.47572586e-02, 2.26660091e-02, 9.11966622e-01, 3.26958299e-02,\n",
              "        7.91438855e-03],\n",
              "       [2.14548968e-02, 2.03710198e-02, 9.22081828e-01, 2.93116588e-02,\n",
              "        6.78054709e-03],\n",
              "       [5.50289266e-02, 5.27597219e-02, 7.97156096e-01, 6.87902570e-02,\n",
              "        2.62650326e-02],\n",
              "       [9.63914454e-01, 4.81780060e-03, 2.18681172e-02, 9.00829863e-03,\n",
              "        3.91255249e-04],\n",
              "       [6.25670254e-01, 7.86918998e-02, 1.95420429e-01, 7.96247572e-02,\n",
              "        2.05926523e-02],\n",
              "       [1.13567181e-01, 7.65624121e-02, 6.53585732e-01, 1.04492165e-01,\n",
              "        5.17924316e-02],\n",
              "       [9.68960941e-01, 4.13187407e-03, 1.88773330e-02, 7.71987578e-03,\n",
              "        3.10060364e-04],\n",
              "       [9.63899374e-01, 5.08920662e-03, 2.14580875e-02, 9.14206915e-03,\n",
              "        4.11349174e-04],\n",
              "       [3.77897210e-02, 3.22346650e-02, 8.69976282e-01, 4.67936359e-02,\n",
              "        1.32056726e-02],\n",
              "       [3.51036847e-01, 1.21184133e-01, 3.15651655e-01, 1.38842225e-01,\n",
              "        7.32851401e-02],\n",
              "       [9.41977680e-01, 9.30566993e-03, 3.29656675e-02, 1.48614300e-02,\n",
              "        8.89476214e-04],\n",
              "       [9.82085526e-01, 2.54406920e-03, 1.06394896e-02, 4.57284413e-03,\n",
              "        1.58040712e-04],\n",
              "       [1.75767973e-01, 1.52235299e-01, 3.43501538e-01, 1.79749131e-01,\n",
              "        1.48746118e-01],\n",
              "       [9.80844617e-01, 2.74374359e-03, 1.13666086e-02, 4.87312162e-03,\n",
              "        1.71866021e-04],\n",
              "       [4.67065364e-01, 1.14496849e-01, 1.87169358e-01, 1.49407998e-01,\n",
              "        8.18605199e-02],\n",
              "       [9.64838505e-01, 5.41479047e-03, 1.98543295e-02, 9.37565882e-03,\n",
              "        5.16684377e-04],\n",
              "       [7.39134252e-01, 6.01637252e-02, 1.25118807e-01, 6.37597218e-02,\n",
              "        1.18235080e-02],\n",
              "       [1.78030059e-01, 1.46397397e-01, 3.63401085e-01, 1.67189896e-01,\n",
              "        1.44981548e-01],\n",
              "       [3.78706992e-01, 9.32038426e-02, 3.64503741e-01, 1.16255328e-01,\n",
              "        4.73300666e-02],\n",
              "       [1.63161516e-01, 1.21053614e-01, 4.61183459e-01, 1.45782098e-01,\n",
              "        1.08819276e-01],\n",
              "       [3.03839326e-01, 1.05821714e-01, 4.04346883e-01, 1.21160515e-01,\n",
              "        6.48316070e-02],\n",
              "       [9.34993386e-01, 1.06377956e-02, 3.64110209e-02, 1.68709215e-02,\n",
              "        1.08687009e-03],\n",
              "       [3.27795483e-02, 2.87746228e-02, 8.86207938e-01, 4.09510881e-02,\n",
              "        1.12868678e-02],\n",
              "       [1.05042510e-01, 7.64454156e-02, 6.66077316e-01, 1.02738470e-01,\n",
              "        4.96962667e-02],\n",
              "       [1.38797536e-01, 1.11219756e-01, 5.23448884e-01, 1.39969289e-01,\n",
              "        8.65645632e-02],\n",
              "       [9.05787468e-01, 1.56053621e-02, 5.12195565e-02, 2.50486657e-02,\n",
              "        2.33888975e-03],\n",
              "       [9.93435264e-01, 8.50284181e-04, 3.94915603e-03, 1.73176476e-03,\n",
              "        3.34938741e-05],\n",
              "       [9.75402415e-01, 3.64814908e-03, 1.41501799e-02, 6.51082071e-03,\n",
              "        2.88323849e-04],\n",
              "       [1.67240530e-01, 1.22402497e-01, 4.47729826e-01, 1.53396249e-01,\n",
              "        1.09230883e-01],\n",
              "       [1.79065138e-01, 1.93075344e-01, 1.92648828e-01, 3.02787334e-01,\n",
              "        1.32423431e-01],\n",
              "       [9.92308736e-01, 1.03586877e-03, 4.59894864e-03, 2.01283325e-03,\n",
              "        4.35337897e-05],\n",
              "       [2.17475727e-01, 1.16231047e-01, 4.19317186e-01, 1.50464982e-01,\n",
              "        9.65110436e-02],\n",
              "       [9.92430627e-01, 9.80888493e-04, 4.59207827e-03, 1.95600349e-03,\n",
              "        4.04137754e-05],\n",
              "       [7.19117597e-02, 6.00072592e-02, 7.51984537e-01, 8.38157237e-02,\n",
              "        3.22807059e-02],\n",
              "       [2.21039988e-02, 2.12321449e-02, 9.19283986e-01, 3.01814657e-02,\n",
              "        7.19833560e-03],\n",
              "       [1.59170926e-01, 1.38568953e-01, 4.11590129e-01, 1.67033136e-01,\n",
              "        1.23636790e-01],\n",
              "       [2.27305721e-02, 2.17157993e-02, 9.17206943e-01, 3.09173055e-02,\n",
              "        7.42944656e-03],\n",
              "       [2.25397088e-02, 2.12019719e-02, 9.18614268e-01, 3.04294862e-02,\n",
              "        7.21451920e-03],\n",
              "       [1.19358100e-01, 8.73877704e-02, 6.17513418e-01, 1.14039905e-01,\n",
              "        6.17008619e-02]], dtype=float32)"
            ]
          },
          "metadata": {
            "tags": []
          },
          "execution_count": 64
        }
      ]
    },
    {
      "cell_type": "code",
      "metadata": {
        "id": "WCxhxW7aLECy"
      },
      "source": [
        "male_predicted = np.argmax(male_predicted, axis=1)"
      ],
      "execution_count": null,
      "outputs": []
    },
    {
      "cell_type": "code",
      "metadata": {
        "colab": {
          "base_uri": "https://localhost:8080/"
        },
        "id": "NyOPj_zmLK3T",
        "outputId": "0dca472f-900a-48be-f8b6-040569321f76"
      },
      "source": [
        "male_predicted"
      ],
      "execution_count": null,
      "outputs": [
        {
          "output_type": "execute_result",
          "data": {
            "text/plain": [
              "array([2, 2, 2, 2, 2, 0, 2, 2, 2, 2, 0, 2, 2, 2, 0, 0, 2, 2, 0, 2, 2, 0,\n",
              "       2, 0, 2, 2, 2, 2, 2, 2, 2, 2, 2, 0, 2, 0, 2, 2, 2, 2, 2, 2, 2, 2,\n",
              "       2, 2, 0, 0, 0, 3, 2, 2, 2, 0, 2, 2, 2, 0, 2, 0, 2, 0, 2, 3, 2, 2,\n",
              "       2, 2, 2, 2, 2, 2, 2, 2, 0, 0, 2, 2, 0, 2, 2, 2, 2, 2, 3, 2, 0, 2,\n",
              "       0, 0, 0, 2, 2, 0, 2, 2, 2, 2, 0, 2, 0, 2, 2, 0, 0, 2, 2, 2, 0, 0,\n",
              "       2, 0, 0, 2, 0, 0, 0, 2, 0, 0, 0, 0, 2, 0, 2, 2, 0, 2, 2, 2, 0, 0,\n",
              "       0, 2, 3, 0, 2, 0, 2, 2, 2, 2, 2, 2])"
            ]
          },
          "metadata": {
            "tags": []
          },
          "execution_count": 66
        }
      ]
    },
    {
      "cell_type": "markdown",
      "metadata": {
        "id": "S3oCoZTVYTn1"
      },
      "source": [
        "model for female"
      ]
    },
    {
      "cell_type": "code",
      "metadata": {
        "id": "YecNLS3lBISC"
      },
      "source": [
        "input_layer = Input(shape=(36,2) ,name='input')\n",
        "lstm_layer = LSTM(128 ,return_sequences=False)(input_layer)\n",
        "hidden_layer1 = Dense(32 ,activation='relu' ,name='layer1')(lstm_layer)\n",
        "hidden_layer2 = Dense(16 ,activation='relu' ,name='layer2')(hidden_layer1)\n",
        "dropout_layer = Dropout(0.5)(hidden_layer2)\n",
        "hidden_layer3 = Dense(8 ,activation='relu' ,name='layer3')(dropout_layer)\n",
        "output_layer = Dense(5 ,activation='softmax' ,name='output')(hidden_layer3)\n"
      ],
      "execution_count": null,
      "outputs": []
    },
    {
      "cell_type": "code",
      "metadata": {
        "colab": {
          "base_uri": "https://localhost:8080/"
        },
        "id": "nBQcOp_2BKxA",
        "outputId": "759d20ea-f8e9-4f6f-b5b8-0155becaf46c"
      },
      "source": [
        "model_2 = Model( inputs=input_layer, outputs=output_layer ,name='model')\n",
        "model_2.summary()"
      ],
      "execution_count": null,
      "outputs": [
        {
          "output_type": "stream",
          "text": [
            "Model: \"model\"\n",
            "_________________________________________________________________\n",
            "Layer (type)                 Output Shape              Param #   \n",
            "=================================================================\n",
            "input (InputLayer)           [(None, 36, 2)]           0         \n",
            "_________________________________________________________________\n",
            "lstm_2 (LSTM)                (None, 128)               67072     \n",
            "_________________________________________________________________\n",
            "layer1 (Dense)               (None, 32)                4128      \n",
            "_________________________________________________________________\n",
            "layer2 (Dense)               (None, 16)                528       \n",
            "_________________________________________________________________\n",
            "dropout_2 (Dropout)          (None, 16)                0         \n",
            "_________________________________________________________________\n",
            "layer3 (Dense)               (None, 8)                 136       \n",
            "_________________________________________________________________\n",
            "output (Dense)               (None, 5)                 45        \n",
            "=================================================================\n",
            "Total params: 71,909\n",
            "Trainable params: 71,909\n",
            "Non-trainable params: 0\n",
            "_________________________________________________________________\n"
          ],
          "name": "stdout"
        }
      ]
    },
    {
      "cell_type": "code",
      "metadata": {
        "id": "vmo8GzpFBNxI"
      },
      "source": [
        "sgd = Adam(lr=0.0001)\n",
        "model_2.compile(optimizer=sgd, loss='categorical_crossentropy', metrics=['accuracy'])"
      ],
      "execution_count": null,
      "outputs": []
    },
    {
      "cell_type": "code",
      "metadata": {
        "id": "rKaV-HVdkH0M",
        "colab": {
          "base_uri": "https://localhost:8080/"
        },
        "outputId": "f5da91a2-f873-415f-bfee-e1701cadef26"
      },
      "source": [
        "history = model_2.fit(female_all_features ,female_train_label ,epochs=70 ,batch_size=32 ,verbose=1)"
      ],
      "execution_count": null,
      "outputs": [
        {
          "output_type": "stream",
          "text": [
            "Epoch 1/70\n",
            "27/27 [==============================] - 3s 34ms/step - loss: 1.6084 - accuracy: 0.2505\n",
            "Epoch 2/70\n",
            "27/27 [==============================] - 1s 34ms/step - loss: 1.6029 - accuracy: 0.3439\n",
            "Epoch 3/70\n",
            "27/27 [==============================] - 1s 33ms/step - loss: 1.5885 - accuracy: 0.3783\n",
            "Epoch 4/70\n",
            "27/27 [==============================] - 1s 33ms/step - loss: 1.5578 - accuracy: 0.4306\n",
            "Epoch 5/70\n",
            "27/27 [==============================] - 1s 33ms/step - loss: 1.5245 - accuracy: 0.4584\n",
            "Epoch 6/70\n",
            "27/27 [==============================] - 1s 33ms/step - loss: 1.5188 - accuracy: 0.4461\n",
            "Epoch 7/70\n",
            "27/27 [==============================] - 1s 34ms/step - loss: 1.5168 - accuracy: 0.4415\n",
            "Epoch 8/70\n",
            "27/27 [==============================] - 1s 34ms/step - loss: 1.4660 - accuracy: 0.4791\n",
            "Epoch 9/70\n",
            "27/27 [==============================] - 1s 33ms/step - loss: 1.4392 - accuracy: 0.4640\n",
            "Epoch 10/70\n",
            "27/27 [==============================] - 1s 34ms/step - loss: 1.4268 - accuracy: 0.4577\n",
            "Epoch 11/70\n",
            "27/27 [==============================] - 1s 33ms/step - loss: 1.4436 - accuracy: 0.4526\n",
            "Epoch 12/70\n",
            "27/27 [==============================] - 1s 32ms/step - loss: 1.4015 - accuracy: 0.4656\n",
            "Epoch 13/70\n",
            "27/27 [==============================] - 1s 33ms/step - loss: 1.3595 - accuracy: 0.5097\n",
            "Epoch 14/70\n",
            "27/27 [==============================] - 1s 33ms/step - loss: 1.3971 - accuracy: 0.4777\n",
            "Epoch 15/70\n",
            "27/27 [==============================] - 1s 33ms/step - loss: 1.3874 - accuracy: 0.4985\n",
            "Epoch 16/70\n",
            "27/27 [==============================] - 1s 33ms/step - loss: 1.3533 - accuracy: 0.5005\n",
            "Epoch 17/70\n",
            "27/27 [==============================] - 1s 33ms/step - loss: 1.3663 - accuracy: 0.5010\n",
            "Epoch 18/70\n",
            "27/27 [==============================] - 1s 33ms/step - loss: 1.3330 - accuracy: 0.5097\n",
            "Epoch 19/70\n",
            "27/27 [==============================] - 1s 33ms/step - loss: 1.3260 - accuracy: 0.5108\n",
            "Epoch 20/70\n",
            "27/27 [==============================] - 1s 33ms/step - loss: 1.3099 - accuracy: 0.5125\n",
            "Epoch 21/70\n",
            "27/27 [==============================] - 1s 32ms/step - loss: 1.2505 - accuracy: 0.5250\n",
            "Epoch 22/70\n",
            "27/27 [==============================] - 1s 32ms/step - loss: 1.2467 - accuracy: 0.5313\n",
            "Epoch 23/70\n",
            "27/27 [==============================] - 1s 33ms/step - loss: 1.2833 - accuracy: 0.4948\n",
            "Epoch 24/70\n",
            "27/27 [==============================] - 1s 33ms/step - loss: 1.2807 - accuracy: 0.5298\n",
            "Epoch 25/70\n",
            "27/27 [==============================] - 1s 34ms/step - loss: 1.2873 - accuracy: 0.4912\n",
            "Epoch 26/70\n",
            "27/27 [==============================] - 1s 33ms/step - loss: 1.2929 - accuracy: 0.4891\n",
            "Epoch 27/70\n",
            "27/27 [==============================] - 1s 33ms/step - loss: 1.3179 - accuracy: 0.4776\n",
            "Epoch 28/70\n",
            "27/27 [==============================] - 1s 34ms/step - loss: 1.2379 - accuracy: 0.5156\n",
            "Epoch 29/70\n",
            "27/27 [==============================] - 1s 33ms/step - loss: 1.3385 - accuracy: 0.4892\n",
            "Epoch 30/70\n",
            "27/27 [==============================] - 1s 34ms/step - loss: 1.2788 - accuracy: 0.4844\n",
            "Epoch 31/70\n",
            "27/27 [==============================] - 1s 34ms/step - loss: 1.2694 - accuracy: 0.5151\n",
            "Epoch 32/70\n",
            "27/27 [==============================] - 1s 39ms/step - loss: 1.2358 - accuracy: 0.5298\n",
            "Epoch 33/70\n",
            "27/27 [==============================] - 1s 35ms/step - loss: 1.2236 - accuracy: 0.5251\n",
            "Epoch 34/70\n",
            "27/27 [==============================] - 1s 36ms/step - loss: 1.2495 - accuracy: 0.4847\n",
            "Epoch 35/70\n",
            "27/27 [==============================] - 1s 35ms/step - loss: 1.2260 - accuracy: 0.5122\n",
            "Epoch 36/70\n",
            "27/27 [==============================] - 1s 33ms/step - loss: 1.2447 - accuracy: 0.5277\n",
            "Epoch 37/70\n",
            "27/27 [==============================] - 1s 34ms/step - loss: 1.2578 - accuracy: 0.4990\n",
            "Epoch 38/70\n",
            "27/27 [==============================] - 1s 33ms/step - loss: 1.1830 - accuracy: 0.5606\n",
            "Epoch 39/70\n",
            "27/27 [==============================] - 1s 33ms/step - loss: 1.2280 - accuracy: 0.5186\n",
            "Epoch 40/70\n",
            "27/27 [==============================] - 1s 33ms/step - loss: 1.2165 - accuracy: 0.5056\n",
            "Epoch 41/70\n",
            "27/27 [==============================] - 1s 33ms/step - loss: 1.2173 - accuracy: 0.5418\n",
            "Epoch 42/70\n",
            "27/27 [==============================] - 1s 33ms/step - loss: 1.1986 - accuracy: 0.5312\n",
            "Epoch 43/70\n",
            "27/27 [==============================] - 1s 34ms/step - loss: 1.2159 - accuracy: 0.5425\n",
            "Epoch 44/70\n",
            "27/27 [==============================] - 1s 33ms/step - loss: 1.2039 - accuracy: 0.5293\n",
            "Epoch 45/70\n",
            "27/27 [==============================] - 1s 34ms/step - loss: 1.3046 - accuracy: 0.4888\n",
            "Epoch 46/70\n",
            "27/27 [==============================] - 1s 33ms/step - loss: 1.1647 - accuracy: 0.5308\n",
            "Epoch 47/70\n",
            "27/27 [==============================] - 1s 33ms/step - loss: 1.1793 - accuracy: 0.5380\n",
            "Epoch 48/70\n",
            "27/27 [==============================] - 1s 35ms/step - loss: 1.2555 - accuracy: 0.5051\n",
            "Epoch 49/70\n",
            "27/27 [==============================] - 1s 33ms/step - loss: 1.2064 - accuracy: 0.5335\n",
            "Epoch 50/70\n",
            "27/27 [==============================] - 1s 33ms/step - loss: 1.1570 - accuracy: 0.5612\n",
            "Epoch 51/70\n",
            "27/27 [==============================] - 1s 32ms/step - loss: 1.1540 - accuracy: 0.5345\n",
            "Epoch 52/70\n",
            "27/27 [==============================] - 1s 33ms/step - loss: 1.1916 - accuracy: 0.5281\n",
            "Epoch 53/70\n",
            "27/27 [==============================] - 1s 33ms/step - loss: 1.1716 - accuracy: 0.5404\n",
            "Epoch 54/70\n",
            "27/27 [==============================] - 1s 33ms/step - loss: 1.1887 - accuracy: 0.5382\n",
            "Epoch 55/70\n",
            "27/27 [==============================] - 1s 33ms/step - loss: 1.1453 - accuracy: 0.5484\n",
            "Epoch 56/70\n",
            "27/27 [==============================] - 1s 33ms/step - loss: 1.1819 - accuracy: 0.5311\n",
            "Epoch 57/70\n",
            "27/27 [==============================] - 1s 32ms/step - loss: 1.1518 - accuracy: 0.5467\n",
            "Epoch 58/70\n",
            "27/27 [==============================] - 1s 32ms/step - loss: 1.1629 - accuracy: 0.5329\n",
            "Epoch 59/70\n",
            "27/27 [==============================] - 1s 36ms/step - loss: 1.1946 - accuracy: 0.5364\n",
            "Epoch 60/70\n",
            "27/27 [==============================] - 1s 35ms/step - loss: 1.1522 - accuracy: 0.5500\n",
            "Epoch 61/70\n",
            "27/27 [==============================] - 1s 33ms/step - loss: 1.1714 - accuracy: 0.5450\n",
            "Epoch 62/70\n",
            "27/27 [==============================] - 1s 33ms/step - loss: 1.1020 - accuracy: 0.5893\n",
            "Epoch 63/70\n",
            "27/27 [==============================] - 1s 33ms/step - loss: 1.1579 - accuracy: 0.5465\n",
            "Epoch 64/70\n",
            "27/27 [==============================] - 1s 33ms/step - loss: 1.1572 - accuracy: 0.5453\n",
            "Epoch 65/70\n",
            "27/27 [==============================] - 1s 36ms/step - loss: 1.1166 - accuracy: 0.5542\n",
            "Epoch 66/70\n",
            "27/27 [==============================] - 1s 32ms/step - loss: 1.1735 - accuracy: 0.5382\n",
            "Epoch 67/70\n",
            "27/27 [==============================] - 1s 33ms/step - loss: 1.1321 - accuracy: 0.5750\n",
            "Epoch 68/70\n",
            "27/27 [==============================] - 1s 34ms/step - loss: 1.1313 - accuracy: 0.5494\n",
            "Epoch 69/70\n",
            "27/27 [==============================] - 1s 33ms/step - loss: 1.0920 - accuracy: 0.5605\n",
            "Epoch 70/70\n",
            "27/27 [==============================] - 1s 34ms/step - loss: 1.1156 - accuracy: 0.5612\n"
          ],
          "name": "stdout"
        }
      ]
    },
    {
      "cell_type": "code",
      "metadata": {
        "id": "ZBVmLRt8bKA5"
      },
      "source": [
        "model_2.save_weights('female_weights_3.h5') \n",
        "model_2.save('female_model_3.h5')   "
      ],
      "execution_count": null,
      "outputs": []
    },
    {
      "cell_type": "code",
      "metadata": {
        "id": "ytvwAdZPkUkq",
        "colab": {
          "base_uri": "https://localhost:8080/",
          "height": 350
        },
        "outputId": "9fb5a2ad-2e49-43cd-e566-a63095313cd1"
      },
      "source": [
        "plt.figure(figsize=(10,5))\n",
        "plt.plot(history.history['accuracy'])\n",
        "plt.title('female model accuracy')\n",
        "plt.ylabel('accuracy')\n",
        "plt.xlabel('epoch')\n",
        "plt.legend(['train'], loc='lower right')\n",
        "plt.show()"
      ],
      "execution_count": null,
      "outputs": [
        {
          "output_type": "display_data",
          "data": {
            "image/png": "[encoded data removed]",
            "text/plain": [
              "<Figure size 720x360 with 1 Axes>"
            ]
          },
          "metadata": {
            "tags": [],
            "needs_background": "light"
          }
        }
      ]
    },
    {
      "cell_type": "code",
      "metadata": {
        "id": "V9BWz1uzkUpT",
        "colab": {
          "base_uri": "https://localhost:8080/",
          "height": 350
        },
        "outputId": "f03be660-febf-418f-d727-c7742fe903ba"
      },
      "source": [
        "plt.figure(figsize=(10,5))\n",
        "plt.plot(history.history['loss'])\n",
        "plt.title('female model loss')\n",
        "plt.ylabel('loss')\n",
        "plt.xlabel('epoch')\n",
        "plt.legend(['train'], loc='upper right')\n",
        "plt.show()"
      ],
      "execution_count": null,
      "outputs": [
        {
          "output_type": "display_data",
          "data": {
            "image/png": "[encoded data removed]",
            "text/plain": [
              "<Figure size 720x360 with 1 Axes>"
            ]
          },
          "metadata": {
            "tags": [],
            "needs_background": "light"
          }
        }
      ]
    },
    {
      "cell_type": "code",
      "metadata": {
        "colab": {
          "base_uri": "https://localhost:8080/"
        },
        "id": "SM3Zzav1LV2S",
        "outputId": "aedb6936-f4ec-4dc1-b148-9b928206c70e"
      },
      "source": [
        "female_predicted = model_2.predict(female_test_all_features)\n",
        "female_predicted"
      ],
      "execution_count": null,
      "outputs": [
        {
          "output_type": "execute_result",
          "data": {
            "text/plain": [
              "array([[1.16225118e-02, 7.84261501e-04, 8.98562372e-01, 7.86696002e-02,\n",
              "        1.03612002e-02],\n",
              "       [3.31282645e-01, 1.50506616e-01, 1.26925915e-01, 2.17106625e-01,\n",
              "        1.74178198e-01],\n",
              "       [9.21080887e-01, 1.47613399e-02, 1.75712910e-03, 4.10247631e-02,\n",
              "        2.13757511e-02],\n",
              "       [2.40773812e-01, 1.50162667e-01, 1.73496395e-01, 2.44367719e-01,\n",
              "        1.91199422e-01],\n",
              "       [2.07804114e-01, 1.57729134e-01, 2.08021015e-01, 2.41927281e-01,\n",
              "        1.84518456e-01],\n",
              "       [1.74739033e-01, 1.27065808e-01, 2.80686051e-01, 2.49420956e-01,\n",
              "        1.68088153e-01],\n",
              "       [2.91479141e-01, 1.66486308e-01, 1.49552286e-01, 2.18835905e-01,\n",
              "        1.73646286e-01],\n",
              "       [1.70575470e-01, 1.28636569e-01, 2.74163783e-01, 2.55106568e-01,\n",
              "        1.71517625e-01],\n",
              "       [1.77795038e-01, 1.39806539e-01, 2.58445024e-01, 2.49059960e-01,\n",
              "        1.74893349e-01],\n",
              "       [1.30847031e-02, 9.53758426e-04, 8.90280962e-01, 8.40040371e-02,\n",
              "        1.16765974e-02],\n",
              "       [1.01687862e-02, 6.25494169e-04, 9.07693386e-01, 7.25201666e-02,\n",
              "        8.99216160e-03],\n",
              "       [2.67120391e-01, 1.49841100e-01, 1.57498419e-01, 2.34254807e-01,\n",
              "        1.91285282e-01],\n",
              "       [6.43036813e-02, 1.52612654e-02, 6.61061466e-01, 1.98315397e-01,\n",
              "        6.10582009e-02],\n",
              "       [2.99234480e-01, 1.44722328e-01, 1.43859923e-01, 2.22910076e-01,\n",
              "        1.89273208e-01],\n",
              "       [4.43578921e-02, 8.08509253e-03, 7.33065546e-01, 1.71364263e-01,\n",
              "        4.31272201e-02],\n",
              "       [8.35009634e-01, 3.14099155e-02, 6.92179287e-03, 7.89487064e-02,\n",
              "        4.77099530e-02],\n",
              "       [8.37471262e-02, 2.59544570e-02, 5.80310524e-01, 2.27421418e-01,\n",
              "        8.25665221e-02],\n",
              "       [8.07083786e-01, 3.82451303e-02, 9.34141595e-03, 9.00506303e-02,\n",
              "        5.52790202e-02],\n",
              "       [2.34805614e-01, 1.53286621e-01, 1.75953150e-01, 2.45522872e-01,\n",
              "        1.90431714e-01],\n",
              "       [1.55957147e-01, 1.05979152e-01, 3.11817229e-01, 2.64386237e-01,\n",
              "        1.61860242e-01],\n",
              "       [1.11979079e-02, 7.33616238e-04, 9.01560426e-01, 7.65890926e-02,\n",
              "        9.91890393e-03],\n",
              "       [3.73581089e-02, 5.99291222e-03, 7.62837827e-01, 1.57547474e-01,\n",
              "        3.62637192e-02],\n",
              "       [9.11240518e-01, 1.65927783e-02, 2.20111315e-03, 4.56913002e-02,\n",
              "        2.42743138e-02],\n",
              "       [1.39924353e-02, 1.08033675e-03, 8.83742929e-01, 8.84994119e-02,\n",
              "        1.26849487e-02],\n",
              "       [6.33296609e-01, 7.50486553e-02, 3.04349158e-02, 1.50117353e-01,\n",
              "        1.11102454e-01],\n",
              "       [1.38819233e-01, 7.11703449e-02, 4.01542038e-01, 2.54630238e-01,\n",
              "        1.33838236e-01],\n",
              "       [1.44695371e-01, 8.19744244e-02, 3.69487077e-01, 2.60001600e-01,\n",
              "        1.43841535e-01],\n",
              "       [8.15442145e-01, 3.62274945e-02, 8.59593041e-03, 8.67907852e-02,\n",
              "        5.29436991e-02],\n",
              "       [1.56199440e-01, 1.06337845e-01, 3.11157674e-01, 2.64264852e-01,\n",
              "        1.62040234e-01],\n",
              "       [5.71258366e-01, 8.96066278e-02, 4.21393178e-02, 1.68259740e-01,\n",
              "        1.28735915e-01],\n",
              "       [9.26554739e-01, 1.37191843e-02, 1.54038647e-03, 3.84468585e-02,\n",
              "        1.97387561e-02],\n",
              "       [1.14208326e-01, 4.58526164e-02, 4.87917542e-01, 2.43429780e-01,\n",
              "        1.08591780e-01],\n",
              "       [7.52972960e-01, 4.94971797e-02, 1.45736439e-02, 1.10350899e-01,\n",
              "        7.26052672e-02],\n",
              "       [1.50119707e-01, 9.98308137e-02, 3.21739346e-01, 2.68728644e-01,\n",
              "        1.59581438e-01],\n",
              "       [1.43839642e-01, 8.92721340e-02, 3.44963938e-01, 2.69366115e-01,\n",
              "        1.52558163e-01],\n",
              "       [1.64154872e-01, 1.22411922e-01, 2.81540930e-01, 2.61257112e-01,\n",
              "        1.70635134e-01],\n",
              "       [1.33981109e-01, 7.94837847e-02, 3.64391029e-01, 2.74807781e-01,\n",
              "        1.47336289e-01],\n",
              "       [1.51995748e-01, 1.00905441e-01, 3.20879191e-01, 2.66720533e-01,\n",
              "        1.59499168e-01],\n",
              "       [9.74678807e-03, 5.81306696e-04, 9.10558522e-01, 7.05324337e-02,\n",
              "        8.58089235e-03],\n",
              "       [3.08509022e-01, 1.60720304e-01, 1.40983045e-01, 2.18198359e-01,\n",
              "        1.71589360e-01],\n",
              "       [1.51460916e-01, 1.04534917e-01, 3.10816407e-01, 2.69991785e-01,\n",
              "        1.63195997e-01],\n",
              "       [9.58522558e-01, 7.60990568e-03, 5.34075371e-04, 2.27913018e-02,\n",
              "        1.05421497e-02],\n",
              "       [3.69305223e-01, 1.43272474e-01, 1.09104723e-01, 2.12052613e-01,\n",
              "        1.66265026e-01],\n",
              "       [2.58659840e-01, 1.52139917e-01, 1.69937432e-01, 2.30634242e-01,\n",
              "        1.88628554e-01],\n",
              "       [2.41762400e-01, 1.57214597e-01, 1.83419839e-01, 2.31291547e-01,\n",
              "        1.86311692e-01],\n",
              "       [1.79994121e-01, 1.41151920e-01, 2.57609695e-01, 2.46728927e-01,\n",
              "        1.74515367e-01],\n",
              "       [2.19763935e-01, 1.51678264e-01, 1.88607886e-01, 2.49655694e-01,\n",
              "        1.90294296e-01],\n",
              "       [1.98684573e-01, 1.60654157e-01, 2.25121081e-01, 2.35373348e-01,\n",
              "        1.80166915e-01],\n",
              "       [2.14356661e-01, 1.58249050e-01, 1.97047994e-01, 2.42931664e-01,\n",
              "        1.87414616e-01],\n",
              "       [1.70588404e-01, 1.31620154e-01, 2.68272281e-01, 2.55943835e-01,\n",
              "        1.73575252e-01],\n",
              "       [9.95801110e-03, 6.02211803e-04, 9.09279406e-01, 7.13909566e-02,\n",
              "        8.76942370e-03],\n",
              "       [5.41310489e-01, 9.63756591e-02, 4.86255027e-02, 1.76346719e-01,\n",
              "        1.37341633e-01],\n",
              "       [1.63518444e-01, 1.22572564e-01, 2.76555508e-01, 2.64561534e-01,\n",
              "        1.72791868e-01],\n",
              "       [1.74565479e-01, 1.31413594e-01, 2.56006539e-01, 2.60543972e-01,\n",
              "        1.77470475e-01],\n",
              "       [4.00236249e-02, 7.00807851e-03, 7.43863463e-01, 1.68757722e-01,\n",
              "        4.03471813e-02],\n",
              "       [9.91162565e-03, 5.98093378e-04, 9.09482956e-01, 7.12710321e-02,\n",
              "        8.73625744e-03],\n",
              "       [1.14034778e-02, 7.62349984e-04, 8.99525046e-01, 7.81100988e-02,\n",
              "        1.01990020e-02],\n",
              "       [9.47656631e-01, 9.68072284e-03, 8.23901035e-04, 2.82377619e-02,\n",
              "        1.36010731e-02],\n",
              "       [2.57393360e-01, 1.56166881e-01, 1.72369733e-01, 2.28684753e-01,\n",
              "        1.85385197e-01],\n",
              "       [4.53428656e-01, 1.19751662e-01, 7.43046403e-02, 1.97268516e-01,\n",
              "        1.55246511e-01],\n",
              "       [1.24088209e-02, 8.71517637e-04, 8.94338310e-01, 8.13444853e-02,\n",
              "        1.10369651e-02],\n",
              "       [4.86843973e-01, 1.11207269e-01, 6.38649985e-02, 1.89916730e-01,\n",
              "        1.48167014e-01],\n",
              "       [2.11794063e-01, 1.60235718e-01, 2.00823233e-01, 2.41357818e-01,\n",
              "        1.85789153e-01],\n",
              "       [4.58937168e-01, 1.23717070e-01, 7.65041709e-02, 1.96021602e-01,\n",
              "        1.44819930e-01],\n",
              "       [3.05785775e-01, 1.58982337e-01, 1.42263383e-01, 2.18937099e-01,\n",
              "        1.74031362e-01],\n",
              "       [2.22348243e-01, 1.38777524e-01, 1.85033098e-01, 2.62226552e-01,\n",
              "        1.91614658e-01],\n",
              "       [3.18437994e-01, 1.43013731e-01, 1.34077743e-01, 2.20719293e-01,\n",
              "        1.83751330e-01],\n",
              "       [6.52462542e-01, 7.14031234e-02, 2.73694415e-02, 1.44017607e-01,\n",
              "        1.04747199e-01],\n",
              "       [8.26190650e-01, 3.47053595e-02, 7.68884225e-03, 8.22758451e-02,\n",
              "        4.91392538e-02],\n",
              "       [1.85847938e-01, 1.50026381e-01, 2.43482411e-01, 2.42883310e-01,\n",
              "        1.77759930e-01],\n",
              "       [9.89315379e-03, 5.95899997e-04, 9.09649968e-01, 7.11472183e-02,\n",
              "        8.71382933e-03],\n",
              "       [8.61052334e-01, 2.68680565e-02, 5.08958753e-03, 6.79816976e-02,\n",
              "        3.90083008e-02],\n",
              "       [4.29420993e-02, 7.43527012e-03, 7.44500160e-01, 1.64499789e-01,\n",
              "        4.06226143e-02],\n",
              "       [1.66759327e-01, 1.28429264e-01, 2.71392733e-01, 2.59885877e-01,\n",
              "        1.73532754e-01],\n",
              "       [9.57453132e-01, 7.81853311e-03, 5.61171968e-04, 2.33399495e-02,\n",
              "        1.08271688e-02],\n",
              "       [9.13774014e-01, 1.63967740e-02, 2.07239436e-03, 4.43801507e-02,\n",
              "        2.33766679e-02],\n",
              "       [1.86962381e-01, 1.38406470e-01, 2.36117437e-01, 2.57036477e-01,\n",
              "        1.81477189e-01],\n",
              "       [1.10155083e-02, 7.15692004e-04, 9.02395129e-01, 7.60922432e-02,\n",
              "        9.78148263e-03],\n",
              "       [9.43273842e-01, 1.05291335e-02, 9.55527532e-04, 3.03876512e-02,\n",
              "        1.48538537e-02],\n",
              "       [5.95350087e-01, 8.68088827e-02, 3.90903130e-02, 1.61890745e-01,\n",
              "        1.16860010e-01],\n",
              "       [2.46827409e-01, 1.52782053e-01, 1.76506504e-01, 2.34133020e-01,\n",
              "        1.89751044e-01],\n",
              "       [1.66859925e-01, 1.16098106e-01, 2.97829986e-01, 2.55014271e-01,\n",
              "        1.64197639e-01],\n",
              "       [9.17153418e-01, 1.54880155e-02, 1.91756804e-03, 4.28533927e-02,\n",
              "        2.25875527e-02]], dtype=float32)"
            ]
          },
          "metadata": {
            "tags": []
          },
          "execution_count": 67
        }
      ]
    },
    {
      "cell_type": "code",
      "metadata": {
        "colab": {
          "base_uri": "https://localhost:8080/"
        },
        "id": "sWcqbBEULkzK",
        "outputId": "4159f667-09fa-49c7-b261-1477bb3e539f"
      },
      "source": [
        "female_predicted = np.argmax(female_predicted, axis=1)\n",
        "female_predicted"
      ],
      "execution_count": null,
      "outputs": [
        {
          "output_type": "execute_result",
          "data": {
            "text/plain": [
              "array([2, 0, 0, 3, 3, 2, 0, 2, 2, 2, 2, 0, 2, 0, 2, 0, 2, 0, 3, 2, 2, 2,\n",
              "       0, 2, 0, 2, 2, 0, 2, 0, 0, 2, 0, 2, 2, 2, 2, 2, 2, 0, 2, 0, 0, 0,\n",
              "       0, 2, 3, 3, 3, 2, 2, 0, 2, 3, 2, 2, 2, 0, 0, 0, 2, 0, 3, 0, 0, 3,\n",
              "       0, 0, 0, 2, 2, 0, 2, 2, 0, 0, 3, 2, 0, 0, 0, 2, 0])"
            ]
          },
          "metadata": {
            "tags": []
          },
          "execution_count": 68
        }
      ]
    }
  ]
}